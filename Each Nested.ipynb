{
 "cells": [
  {
   "cell_type": "code",
   "execution_count": 1,
   "id": "2e0700d8",
   "metadata": {},
   "outputs": [
    {
     "data": {
      "text/html": [
       "<pre class=\"language-APL\">clear ws\n",
       "</pre>"
      ]
     },
     "execution_count": 1,
     "metadata": {},
     "output_type": "execute_result"
    }
   ],
   "source": [
    ")clear\n",
    "⎕IO ← 0\n",
    "⎕CT ← 1e¯10\n",
    "Assert ← {⍺←'assertion failure' ⋄ 0∊⍵:⍺ ⎕signal 8 ⋄ shy←0}   ⍝ by Roger Hui\n",
    "Table  ← {⎕PP←3 ⋄ ⍕¨¨⍺,[¯0.5]⍵}                              ⍝ display as table"
   ]
  },
  {
   "cell_type": "markdown",
   "id": "59c63c05",
   "metadata": {},
   "source": [
    "# Matrix divide\n",
    "The [`⌹` function](https://help.dyalog.com/latest/Content/Language/Primitive%20Functions/Matrix%20Divide.htm), when used dyadically (`b⌹m`), performs the matrix division of `b` by `m`. In case `b` is a vector and `m` is a matrix with shape `2⍴≢b`, the result of `b⌹m` will be the vector `x` which solves the linear system `b ≡ m +.× x`."
   ]
  },
  {
   "cell_type": "code",
   "execution_count": 2,
   "id": "bbab507e",
   "metadata": {},
   "outputs": [
    {
     "data": {
      "text/html": [
       "<pre class=\"language-APL\">┌────────────────────┬─────────────────────┬───────────────────┐\n",
       "│b                   │m                    │x                  │\n",
       "├────────────────────┼─────────────────────┼───────────────────┤\n",
       "│┌──────┬─────┬─────┐│┌──────┬──────┬─────┐│┌─────┬────┬──────┐│\n",
       "││0.0187│0.738│0.546│││0.109 │0.157 │0.543│││0.814│1.22│¯0.484││\n",
       "│└──────┴─────┴─────┘│├──────┼──────┼─────┤│└─────┴────┴──────┘│\n",
       "│                    ││0.0205│0.781 │0.483││                   │\n",
       "│                    │├──────┼──────┼─────┤│                   │\n",
       "│                    ││0.783 │0.0556│0.331││                   │\n",
       "│                    │└──────┴──────┴─────┘│                   │\n",
       "└────────────────────┴─────────────────────┴───────────────────┘\n",
       "</pre>"
      ]
     },
     "execution_count": 2,
     "metadata": {},
     "output_type": "execute_result"
    }
   ],
   "source": [
    "b m←{?⍵⍴0}¨3 (3 3)  ⍝ random sample data\n",
    "'bmx' Table b m (x←b⌹m)\n",
    "Assert b ≡ m +.× x"
   ]
  },
  {
   "cell_type": "markdown",
   "id": "173546cb",
   "metadata": {},
   "source": [
    "# Matrix divide of nested vector elements\n",
    "\n",
    "Sometimes, we do not need to solve a linear system, but many linear systems. What if every element of our vector and every element of our matrix was an array with several values? Let's try it. We are going to divide a vector of 2-elements vectors by a matrix of 2-elements vectors:"
   ]
  },
  {
   "cell_type": "code",
   "execution_count": 3,
   "id": "9751d059",
   "metadata": {},
   "outputs": [
    {
     "data": {
      "text/html": [
       "<pre class=\"language-APL\">┌─────────────────────────────────────┬───┬───────┬────────────────────────────────────────┬─────┬───────┐\n",
       "│b                                    │⍴b │⍴¨b    │m                                       │⍴m   │⍴¨m    │\n",
       "├─────────────────────────────────────┼───┼───────┼────────────────────────────────────────┼─────┼───────┤\n",
       "│┌─────────────┬──────────┬──────────┐│┌─┐│┌─┬─┬─┐│┌─────────────┬────────────┬───────────┐│┌─┬─┐│┌─┬─┬─┐│\n",
       "││0.0794 0.0334│0.376 0.91│0.66 0.101│││3│││2│2│2│││0.761 0.623  │0.0545 0.919│0.654 0.915│││3│3│││2│2│2││\n",
       "│└─────────────┴──────────┴──────────┘│└─┘│└─┴─┴─┘│├─────────────┼────────────┼───────────┤│└─┴─┘│├─┼─┼─┤│\n",
       "│                                     │   │       ││0.551 0.276  │0.713 0.126 │0.736 0.951││     ││2│2│2││\n",
       "│                                     │   │       │├─────────────┼────────────┼───────────┤│     │├─┼─┼─┤│\n",
       "│                                     │   │       ││0.178 0.00581│0.0811 0.334│0.485 0.282││     ││2│2│2││\n",
       "│                                     │   │       │└─────────────┴────────────┴───────────┘│     │└─┴─┴─┘│\n",
       "└─────────────────────────────────────┴───┴───────┴────────────────────────────────────────┴─────┴───────┘\n",
       "</pre>"
      ]
     },
     "execution_count": 3,
     "metadata": {},
     "output_type": "execute_result"
    },
    {
     "name": "stderr",
     "output_type": "stream",
     "text": [
      "DOMAIN ERROR\n",
      "      b⌹m\n",
      "       ∧\n"
     ]
    }
   ],
   "source": [
    "m b←2{↓?(⍵,⍺)⍴0}¨(3 3) 3  ⍝ random sample data\n",
    "(,⍉'' '⍴' '⍴¨'∘.,'bm') Table b (⍴b) (⍴¨b) m (⍴m) (⍴¨m)\n",
    "b⌹m"
   ]
  },
  {
   "cell_type": "markdown",
   "id": "531334c5",
   "metadata": {},
   "source": [
    "It does not work. We need to restructure the data so that we can use the [rank operator](https://help.dyalog.com/latest/Content/Language/Primitive%20Operators/Rank.htm), `⍤`. First, we mix the arrays, to get arrays of more dimensions:"
   ]
  },
  {
   "cell_type": "code",
   "execution_count": 4,
   "id": "cfe33b54",
   "metadata": {},
   "outputs": [
    {
     "data": {
      "text/html": [
       "<pre class=\"language-APL\">┌────────────────────┬──────────────────────┬─────────┬─────────┐\n",
       "│↑[¯0.5]b            │↑[¯0.5]m              │⍴↑[¯0.5]b│⍴↑[¯0.5]m│\n",
       "├────────────────────┼──────────────────────┼─────────┼─────────┤\n",
       "│┌──────┬─────┬─────┐│┌───────┬──────┬─────┐│┌─┬─┐    │┌─┬─┬─┐  │\n",
       "││0.0794│0.376│0.66 │││0.761  │0.0545│0.654│││2│3│    ││2│3│3│  │\n",
       "│├──────┼─────┼─────┤│├───────┼──────┼─────┤│└─┴─┘    │└─┴─┴─┘  │\n",
       "││0.0334│0.91 │0.101│││0.551  │0.713 │0.736││         │         │\n",
       "│└──────┴─────┴─────┘│├───────┼──────┼─────┤│         │         │\n",
       "│                    ││0.178  │0.0811│0.485││         │         │\n",
       "│                    │└───────┴──────┴─────┘│         │         │\n",
       "│                    │┌───────┬──────┬─────┐│         │         │\n",
       "│                    ││0.623  │0.919 │0.915││         │         │\n",
       "│                    │├───────┼──────┼─────┤│         │         │\n",
       "│                    ││0.276  │0.126 │0.951││         │         │\n",
       "│                    │├───────┼──────┼─────┤│         │         │\n",
       "│                    ││0.00581│0.334 │0.282││         │         │\n",
       "│                    │└───────┴──────┴─────┘│         │         │\n",
       "└────────────────────┴──────────────────────┴─────────┴─────────┘\n",
       "</pre>"
      ]
     },
     "execution_count": 4,
     "metadata": {},
     "output_type": "execute_result"
    }
   ],
   "source": [
    "(,'' '⍴'∘.,(⊂'↑[¯0.5]'),¨'bm') Table (⊢,⍴¨)↑[¯0.5]¨b m"
   ]
  },
  {
   "cell_type": "markdown",
   "id": "524a9495",
   "metadata": {},
   "source": [
    "Now, matrix divide with the rank operator will work:"
   ]
  },
  {
   "cell_type": "code",
   "execution_count": 5,
   "id": "2c92b039",
   "metadata": {
    "scrolled": true
   },
   "outputs": [
    {
     "data": {
      "text/html": [
       "<pre class=\"language-APL\">┌─────────────────────────────────────┬────────────────────────────────────────┬───────────────────┐\n",
       "│b                                    │m                                       │x                  │\n",
       "├─────────────────────────────────────┼────────────────────────────────────────┼───────────────────┤\n",
       "│┌─────────────┬──────────┬──────────┐│┌─────────────┬────────────┬───────────┐│┌─────┬──────┬────┐│\n",
       "││0.0794 0.0334│0.376 0.91│0.66 0.101│││0.761 0.623  │0.0545 0.919│0.654 0.915│││¯1.58│¯0.304│1.99││\n",
       "│└─────────────┴──────────┴──────────┘│├─────────────┼────────────┼───────────┤│├─────┼──────┼────┤│\n",
       "│                                     ││0.551 0.276  │0.713 0.126 │0.736 0.951│││¯0.69│¯0.745│1.25││\n",
       "│                                     │├─────────────┼────────────┼───────────┤│└─────┴──────┴────┘│\n",
       "│                                     ││0.178 0.00581│0.0811 0.334│0.485 0.282││                   │\n",
       "│                                     │└─────────────┴────────────┴───────────┘│                   │\n",
       "└─────────────────────────────────────┴────────────────────────────────────────┴───────────────────┘\n",
       "</pre>"
      ]
     },
     "execution_count": 5,
     "metadata": {},
     "output_type": "execute_result"
    }
   ],
   "source": [
    "'bmx' Table b m (x←b⌹⍤1 2⍥(↑[¯0.5])m)"
   ]
  },
  {
   "cell_type": "markdown",
   "id": "427fd16e",
   "metadata": {},
   "source": [
    "We already solved the linear system. However, the solution does not have the right structure:"
   ]
  },
  {
   "cell_type": "code",
   "execution_count": 6,
   "id": "c34765f6",
   "metadata": {},
   "outputs": [
    {
     "data": {
      "text/html": [
       "<pre class=\"language-APL\">┌───────────────────┬─────┬────┐\n",
       "│x                  │⍴x   │⍴¨x │\n",
       "├───────────────────┼─────┼────┤\n",
       "│┌─────┬──────┬────┐│┌─┬─┐│┌┬┬┐│\n",
       "││¯1.58│¯0.304│1.99│││2│3│││││││\n",
       "│├─────┼──────┼────┤│└─┴─┘│├┼┼┤│\n",
       "││¯0.69│¯0.745│1.25││     ││││││\n",
       "│└─────┴──────┴────┘│     │└┴┴┘│\n",
       "└───────────────────┴─────┴────┘\n",
       "</pre>"
      ]
     },
     "execution_count": 6,
     "metadata": {},
     "output_type": "execute_result"
    },
    {
     "name": "stderr",
     "output_type": "stream",
     "text": [
      "LENGTH ERROR\n",
      "      b≡m+.×x\n",
      "          ∧\n"
     ]
    }
   ],
   "source": [
    "('' '⍴' '⍴¨',¨'x') Table x (⍴x) (⍴¨x)\n",
    "b ≡ m +.× x"
   ]
  },
  {
   "cell_type": "markdown",
   "id": "1f764aad",
   "metadata": {},
   "source": [
    "We need to restructure the array again, so we split it, removing the first axis that we added before. This is getting a bit complicated, so we will define a *nested divide* function:"
   ]
  },
  {
   "cell_type": "code",
   "execution_count": 7,
   "id": "09eaac03",
   "metadata": {},
   "outputs": [
    {
     "data": {
      "text/html": [
       "<pre class=\"language-APL\">  ┌─┴──┐\n",
       "  [0]  ⍥\n",
       "┌─┘ ┌──┴───┐\n",
       "↓   ⍤      [¯0.5]\n",
       "   ┌┴┐   ┌─┘\n",
       "   ⌹ 1 2 ↑\n",
       "</pre>"
      ]
     },
     "execution_count": 7,
     "metadata": {},
     "output_type": "execute_result"
    },
    {
     "data": {
      "text/html": [
       "<pre class=\"language-APL\">┌─────────────────────────────────────┬───┬───────┐\n",
       "│x                                    │⍴x │⍴¨x    │\n",
       "├─────────────────────────────────────┼───┼───────┤\n",
       "│┌───────────┬─────────────┬─────────┐│┌─┐│┌─┬─┬─┐│\n",
       "││¯1.58 ¯0.69│¯0.304 ¯0.745│1.99 1.25│││3│││2│2│2││\n",
       "│└───────────┴─────────────┴─────────┘│└─┘│└─┴─┴─┘│\n",
       "└─────────────────────────────────────┴───┴───────┘\n",
       "</pre>"
      ]
     },
     "execution_count": 7,
     "metadata": {},
     "output_type": "execute_result"
    }
   ],
   "source": [
    "⎕ ← ND ← ↓[0]⌹⍤1 2⍥(↑[¯0.5])  ⍝ nested matrix divide\n",
    "('' '⍴' '⍴¨',¨'x') Table x (⍴x) (⍴¨x←b ND m)\n",
    "Assert b ≡ m +.× x"
   ]
  },
  {
   "cell_type": "markdown",
   "id": "83d46df7",
   "metadata": {},
   "source": [
    "We solved the two linear systems now! This time, we got a solution array `x` with exactly the same structure as `b`, so there is no error.\n",
    "\n",
    "# Matrix divide of nested array elements\n",
    "\n",
    "We are not done yet. What if our nested elements are not simple vectors but arrays with rank higher than 1?"
   ]
  },
  {
   "cell_type": "code",
   "execution_count": 8,
   "id": "457c04b2",
   "metadata": {},
   "outputs": [
    {
     "data": {
      "text/html": [
       "<pre class=\"language-APL\">┌───────────────────────────────────────────────┬─────┬─────────┐\n",
       "│m                                              │⍴m   │⍴¨m      │\n",
       "├───────────────────────────────────────────────┼─────┼─────────┤\n",
       "│┌──────────────────────┬──────────────────────┐│┌─┬─┐│┌───┬───┐│\n",
       "││3.71 0.964 2.76  0.237│3.08 0.0904 2.77  1.39│││2│2│││3 4│3 4││\n",
       "││2.13 3.38  0.323 2.1  │2.39 1.04   1.55  0.79││└─┴─┘│├───┼───┤│\n",
       "││2.1  3.56  1.49  0.321│2.52 0.956  0.062 2.38││     ││3 4│3 4││\n",
       "│├──────────────────────┼──────────────────────┤│     │└───┴───┘│\n",
       "││4.8  1.23 3.99 1.83   │4.47 0.226 0.306 2.82 ││     │         │\n",
       "││3.75 4.42 3.55 1.44   │3.81 1.78  0.719 0.715││     │         │\n",
       "││3.64 2.28 4.93 1.58   │1.61 3.4   1.28  3.99 ││     │         │\n",
       "│└──────────────────────┴──────────────────────┘│     │         │\n",
       "└───────────────────────────────────────────────┴─────┴─────────┘\n",
       "</pre>"
      ]
     },
     "execution_count": 8,
     "metadata": {},
     "output_type": "execute_result"
    },
    {
     "data": {
      "text/html": [
       "<pre class=\"language-APL\">┌────────────────────────────────────────────────┬───┬─────────┐\n",
       "│b                                               │⍴b │⍴¨b      │\n",
       "├────────────────────────────────────────────────┼───┼─────────┤\n",
       "│┌──────────────────────┬───────────────────────┐│┌─┐│┌───┬───┐│\n",
       "││3.09 0.82  0.494 1.89 │0.675 1.4   3.7   0.106│││2│││3 4│3 4││\n",
       "││2.62 0.632 3.84  0.641│2.81  0.956 2.57  3.33 ││└─┘│└───┴───┘│\n",
       "││4.12 2.37  4.31  1.3  │4.76  1.12  0.647 3.26 ││   │         │\n",
       "│└──────────────────────┴───────────────────────┘│   │         │\n",
       "└────────────────────────────────────────────────┴───┴─────────┘\n",
       "</pre>"
      ]
     },
     "execution_count": 8,
     "metadata": {},
     "output_type": "execute_result"
    },
    {
     "data": {
      "text/html": [
       "<pre class=\"language-APL\">┌──────────────────────────────────────┬─────┬─────┐\n",
       "│x                                     │⍴x   │⍴¨x  │\n",
       "├──────────────────────────────────────┼─────┼─────┤\n",
       "│┌──────────────────┬─────────────────┐│┌─┬─┐│┌─┬─┐│\n",
       "││6.51 ¯3.8 0.928   │¯6.83 4.48 0.863 │││4│2│││3│3││\n",
       "│├──────────────────┼─────────────────┤│└─┴─┘│├─┼─┤│\n",
       "││0.551 0.0917 0.705│3.19 0.31 ¯0.145 ││     ││3│3││\n",
       "│├──────────────────┼─────────────────┤│     │├─┼─┤│\n",
       "││0.988 0.234 3.42  │¯0.805 2.43 ¯12.7││     ││3│3││\n",
       "│├──────────────────┼─────────────────┤│     │├─┼─┤│\n",
       "││¯2.76 ¯6 1.04     │1.82 16.8 0.405  ││     ││3│3││\n",
       "│└──────────────────┴─────────────────┘│     │└─┴─┘│\n",
       "└──────────────────────────────────────┴─────┴─────┘\n",
       "</pre>"
      ]
     },
     "execution_count": 8,
     "metadata": {},
     "output_type": "execute_result"
    },
    {
     "name": "stderr",
     "output_type": "stream",
     "text": [
      "LENGTH ERROR\n",
      "      b≡m+.×x\n",
      "          ∧\n"
     ]
    }
   ],
   "source": [
    "RN ← {5×⊂⍤(≢⍺)?(⍵,⍺)⍴0}  ⍝ random nested. ⍺ shape of element, ⍵ shape of array\n",
    "m b←(⊂3 4)RN¨(2 2) 2  ⍝ random sample data\n",
    "('' '⍴' '⍴¨',¨'m') Table m (⍴m) (⍴¨m)\n",
    "('' '⍴' '⍴¨',¨'b') Table b (⍴b) (⍴¨b)\n",
    "('' '⍴' '⍴¨',¨'x') Table x (⍴x) (⍴¨x←b ND m)\n",
    "b ≡ m +.× x"
   ]
  },
  {
   "cell_type": "markdown",
   "id": "888f3aa9",
   "metadata": {},
   "source": [
    "We actually solved the system, but obviously `↓[0]` was not enough to restructure the result value as needed. We only removed one axis, but we added two with `↑[¯0.5]`. Since we want to nest more than one axis, we will use the [enclose function](), `⊂`, together with the rank operator, instead of split. But there is another problem. Let's have a look at the shape of the result of the matrix divide:"
   ]
  },
  {
   "cell_type": "code",
   "execution_count": 9,
   "id": "739028ff",
   "metadata": {},
   "outputs": [
    {
     "data": {
      "text/html": [
       "<pre class=\"language-APL\">┌───────────────┬───────┬───┐\n",
       "│d              │⍴d     │⍴¨d│\n",
       "├───────────────┼───────┼───┤\n",
       "│┌──────┬──────┐│┌─┬─┬─┐│┌┬┐│\n",
       "││6.51  │¯6.83 │││3│4│2││││││\n",
       "│├──────┼──────┤│└─┴─┴─┘│├┼┤│\n",
       "││0.551 │3.19  ││       │││││\n",
       "│├──────┼──────┤│       │├┼┤│\n",
       "││0.988 │¯0.805││       │││││\n",
       "│├──────┼──────┤│       │├┼┤│\n",
       "││¯2.76 │1.82  ││       │││││\n",
       "│└──────┴──────┘│       │└┴┘│\n",
       "│┌──────┬──────┐│       │┌┬┐│\n",
       "││¯3.8  │4.48  ││       │││││\n",
       "│├──────┼──────┤│       │├┼┤│\n",
       "││0.0917│0.31  ││       │││││\n",
       "│├──────┼──────┤│       │├┼┤│\n",
       "││0.234 │2.43  ││       │││││\n",
       "│├──────┼──────┤│       │├┼┤│\n",
       "││¯6    │16.8  ││       │││││\n",
       "│└──────┴──────┘│       │└┴┘│\n",
       "│┌──────┬──────┐│       │┌┬┐│\n",
       "││0.928 │0.863 ││       │││││\n",
       "│├──────┼──────┤│       │├┼┤│\n",
       "││0.705 │¯0.145││       │││││\n",
       "│├──────┼──────┤│       │├┼┤│\n",
       "││3.42  │¯12.7 ││       │││││\n",
       "│├──────┼──────┤│       │├┼┤│\n",
       "││1.04  │0.405 ││       │││││\n",
       "│└──────┴──────┘│       │└┴┘│\n",
       "└───────────────┴───────┴───┘\n",
       "</pre>"
      ]
     },
     "execution_count": 9,
     "metadata": {},
     "output_type": "execute_result"
    }
   ],
   "source": [
    "('' '⍴' '⍴¨',¨'d') Table d (⍴d) (⍴¨d←b⌹⍤1 2⍥(↑[¯0.5])m) "
   ]
  },
  {
   "cell_type": "markdown",
   "id": "a6c65276",
   "metadata": {},
   "source": [
    "What we want to do is to have the same structure of `b` (a vector of 2 elements, each of them a 3 4 array). The goal is to get rid of the first two axes, but enclose will remove the last ones. So, we need to transpose the array first. \n",
    "\n",
    "This might be done with a dyadic transpose. However, then we would need to first find the length of the current shape, then generate the indices, rotate them and do the transpose. Instead, we will use two monadic transposes with different ranks, which will have the same effect. First, we do a transpose rotating all the elements of the shape, then we do another transpose but this one with rank ¯1, to rotate only the subarrays while leaving the first axis unchanged:"
   ]
  },
  {
   "cell_type": "code",
   "execution_count": 10,
   "id": "8d1544ef",
   "metadata": {},
   "outputs": [
    {
     "data": {
      "text/html": [
       "<pre class=\"language-APL\">┌──────────────────────┬───────┬────┐\n",
       "│x                     │⍴x     │⍴¨x │\n",
       "├──────────────────────┼───────┼────┤\n",
       "│┌──────┬──────┬──────┐│┌─┬─┬─┐│┌┬┬┐│\n",
       "││6.51  │¯3.8  │0.928 │││2│4│3│││││││\n",
       "│├──────┼──────┼──────┤│└─┴─┴─┘│├┼┼┤│\n",
       "││0.551 │0.0917│0.705 ││       ││││││\n",
       "│├──────┼──────┼──────┤│       │├┼┼┤│\n",
       "││0.988 │0.234 │3.42  ││       ││││││\n",
       "│├──────┼──────┼──────┤│       │├┼┼┤│\n",
       "││¯2.76 │¯6    │1.04  ││       ││││││\n",
       "│└──────┴──────┴──────┘│       │└┴┴┘│\n",
       "│┌──────┬──────┬──────┐│       │┌┬┬┐│\n",
       "││¯6.83 │4.48  │0.863 ││       ││││││\n",
       "│├──────┼──────┼──────┤│       │├┼┼┤│\n",
       "││3.19  │0.31  │¯0.145││       ││││││\n",
       "│├──────┼──────┼──────┤│       │├┼┼┤│\n",
       "││¯0.805│2.43  │¯12.7 ││       ││││││\n",
       "│├──────┼──────┼──────┤│       │├┼┼┤│\n",
       "││1.82  │16.8  │0.405 ││       ││││││\n",
       "│└──────┴──────┴──────┘│       │└┴┴┘│\n",
       "└──────────────────────┴───────┴────┘\n",
       "</pre>"
      ]
     },
     "execution_count": 10,
     "metadata": {},
     "output_type": "execute_result"
    },
    {
     "data": {
      "text/html": [
       "<pre class=\"language-APL\">┌───────────────────────────┬───────┬─────┐\n",
       "│x                          │⍴x     │⍴¨x  │\n",
       "├───────────────────────────┼───────┼─────┤\n",
       "│┌─────┬──────┬──────┬─────┐│┌─┬─┬─┐│┌┬┬┬┐│\n",
       "││6.51 │0.551 │0.988 │¯2.76│││2│3│4││││││││\n",
       "│├─────┼──────┼──────┼─────┤│└─┴─┴─┘│├┼┼┼┤│\n",
       "││¯3.8 │0.0917│0.234 │¯6   ││       │││││││\n",
       "│├─────┼──────┼──────┼─────┤│       │├┼┼┼┤│\n",
       "││0.928│0.705 │3.42  │1.04 ││       │││││││\n",
       "│└─────┴──────┴──────┴─────┘│       │└┴┴┴┘│\n",
       "│┌─────┬──────┬──────┬─────┐│       │┌┬┬┬┐│\n",
       "││¯6.83│3.19  │¯0.805│1.82 ││       │││││││\n",
       "│├─────┼──────┼──────┼─────┤│       │├┼┼┼┤│\n",
       "││4.48 │0.31  │2.43  │16.8 ││       │││││││\n",
       "│├─────┼──────┼──────┼─────┤│       │├┼┼┼┤│\n",
       "││0.863│¯0.145│¯12.7 │0.405││       │││││││\n",
       "│└─────┴──────┴──────┴─────┘│       │└┴┴┴┘│\n",
       "└───────────────────────────┴───────┴─────┘\n",
       "</pre>"
      ]
     },
     "execution_count": 10,
     "metadata": {},
     "output_type": "execute_result"
    }
   ],
   "source": [
    "Assert (⍉⍤¯1⍉d) ≡ (1⌽⍳≢⍴d)⍉d     ⍝ two monadic transposes match dyadic transpose\n",
    "('' '⍴' '⍴¨',¨'x') Table x (⍴x) (⍴¨x←⍉d)      ⍝ first monadic transpose (rank ⍴⍴d)\n",
    "('' '⍴' '⍴¨',¨'x') Table x (⍴x) (⍴¨x←⍉⍤¯1⍉d)  ⍝ second monadic transpose (rank (⍴⍴d)-1)"
   ]
  },
  {
   "cell_type": "markdown",
   "id": "df3d68ca",
   "metadata": {},
   "source": [
    "Almost there. We just need to enclose with rank two to nest the subarrays, removing the last two elements of the shape:"
   ]
  },
  {
   "cell_type": "code",
   "execution_count": 11,
   "id": "33c37bbc",
   "metadata": {},
   "outputs": [
    {
     "data": {
      "text/html": [
       "<pre class=\"language-APL\">┌────────────────────────────────────────────────────────┬───┬─────────┐\n",
       "│x                                                       │⍴x │⍴¨x      │\n",
       "├────────────────────────────────────────────────────────┼───┼─────────┤\n",
       "│┌─────────────────────────┬────────────────────────────┐│┌─┐│┌───┬───┐│\n",
       "││ 6.51  0.551  0.988 ¯2.76│¯6.83   3.19   ¯0.805  1.82 │││2│││3 4│3 4││\n",
       "││¯3.8   0.0917 0.234 ¯6   │ 4.48   0.31    2.43  16.8  ││└─┘│└───┴───┘│\n",
       "││ 0.928 0.705  3.42   1.04│ 0.863 ¯0.145 ¯12.7    0.405││   │         │\n",
       "│└─────────────────────────┴────────────────────────────┘│   │         │\n",
       "└────────────────────────────────────────────────────────┴───┴─────────┘\n",
       "</pre>"
      ]
     },
     "execution_count": 11,
     "metadata": {},
     "output_type": "execute_result"
    }
   ],
   "source": [
    "('' '⍴' '⍴¨',¨'x') Table x (⍴x) (⍴¨x←⊂⍤¯1⍉⍤¯1⍉d)"
   ]
  },
  {
   "cell_type": "markdown",
   "id": "df196d81",
   "metadata": {},
   "source": [
    "Done! Let's redefine our nested divide function:"
   ]
  },
  {
   "cell_type": "code",
   "execution_count": 12,
   "id": "303dc877",
   "metadata": {
    "scrolled": false
   },
   "outputs": [
    {
     "data": {
      "text/html": [
       "<pre class=\"language-APL\">   ┌──┴───┐\n",
       "   ∘      ⍥\n",
       "  ┌┴┐  ┌──┴───┐\n",
       "  ⍤ ⍉  ⍤      [¯0.5]\n",
       " ┌┴┐  ┌┴┐   ┌─┘\n",
       " ∘ ¯1 ⌹ 1 2 ↑\n",
       "┌┴┐\n",
       "⊂ ⍉\n",
       "</pre>"
      ]
     },
     "execution_count": 12,
     "metadata": {},
     "output_type": "execute_result"
    },
    {
     "data": {
      "text/html": [
       "<pre class=\"language-APL\">┌────────────────────────────────────────────────────────┬───┬─────────┐\n",
       "│x                                                       │⍴x │⍴¨x      │\n",
       "├────────────────────────────────────────────────────────┼───┼─────────┤\n",
       "│┌─────────────────────────┬────────────────────────────┐│┌─┐│┌───┬───┐│\n",
       "││ 6.51  0.551  0.988 ¯2.76│¯6.83   3.19   ¯0.805  1.82 │││2│││3 4│3 4││\n",
       "││¯3.8   0.0917 0.234 ¯6   │ 4.48   0.31    2.43  16.8  ││└─┘│└───┴───┘│\n",
       "││ 0.928 0.705  3.42   1.04│ 0.863 ¯0.145 ¯12.7    0.405││   │         │\n",
       "│└─────────────────────────┴────────────────────────────┘│   │         │\n",
       "└────────────────────────────────────────────────────────┴───┴─────────┘\n",
       "</pre>"
      ]
     },
     "execution_count": 12,
     "metadata": {},
     "output_type": "execute_result"
    }
   ],
   "source": [
    "⎕ ← ND ← ⊂∘⍉⍤¯1∘⍉⌹⍤1 2⍥(↑[¯0.5])  ⍝ nested matrix divide\n",
    "('' '⍴' '⍴¨',¨'x') Table x (⍴x) (⍴¨x←b ND m)\n",
    "Assert b ≡ m +.× x"
   ]
  },
  {
   "cell_type": "markdown",
   "id": "b22af62e",
   "metadata": {},
   "source": [
    "Everything looks fine. To make sure our function is doing the right thing, let's try it with arrays of other ranks:"
   ]
  },
  {
   "cell_type": "code",
   "execution_count": 13,
   "id": "42400d05",
   "metadata": {},
   "outputs": [
    {
     "data": {
      "text/html": [
       "<pre class=\"language-APL\">┌────────────────────┬───┬────┐\n",
       "│x                   │⍴x │⍴¨x │\n",
       "├────────────────────┼───┼────┤\n",
       "│┌─────┬──────┬─────┐│┌─┐│┌┬┬┐│\n",
       "││0.186│¯0.308│0.639│││3│││││││\n",
       "│└─────┴──────┴─────┘│└─┘│└┴┴┘│\n",
       "└────────────────────┴───┴────┘\n",
       "┌──────────────────────────────────┬───┬───────┐\n",
       "│x                                 │⍴x │⍴¨x    │\n",
       "├──────────────────────────────────┼───┼───────┤\n",
       "│┌───────────┬────────┬───────────┐│┌─┐│┌─┬─┬─┐│\n",
       "││¯23.5 ¯1.55│11.9 2.9│2.92 ¯0.367│││3│││2│2│2││\n",
       "│└───────────┴────────┴───────────┘│└─┘│└─┴─┴─┘│\n",
       "└──────────────────────────────────┴───┴───────┘\n",
       "┌───────────────────────────────────────────┬───┬─────────────┐\n",
       "│x                                          │⍴x │⍴¨x          │\n",
       "├───────────────────────────────────────────┼───┼─────────────┤\n",
       "│┌────────────┬─────────────┬──────────────┐│┌─┐│┌───┬───┬───┐│\n",
       "││¯0.965 0.149│ 0.779  0.312│  1.36 ¯0.0258│││3│││2 2│2 2│2 2││\n",
       "││34.3   0.837│33.7   ¯0.124│¯43.4   0.556 ││└─┘│└───┴───┴───┘│\n",
       "│└────────────┴─────────────┴──────────────┘│   │             │\n",
       "└───────────────────────────────────────────┴───┴─────────────┘\n",
       "┌────────────────────────────────────────────┬───┬───────────────────┐\n",
       "│x                                           │⍴x │⍴¨x                │\n",
       "├────────────────────────────────────────────┼───┼───────────────────┤\n",
       "│┌──────────────┬─────────────┬─────────────┐│┌─┐│┌─────┬─────┬─────┐│\n",
       "││ 0.986 ¯83.1  │ 0.482 40.4  │¯0.807 98.2  │││3│││2 2 2│2 2 2│2 2 2││\n",
       "││ 3       0.572│¯0.659  0.485│¯0.338 ¯0.747││└─┘│└─────┴─────┴─────┘│\n",
       "││              │             │             ││   │                   │\n",
       "││¯0.278   0.142│ 1.23  ¯0.245│ 1.02   0.709││   │                   │\n",
       "││¯1.5    ¯3.55 │11.8    3.01 │¯2.92  ¯0.127││   │                   │\n",
       "│└──────────────┴─────────────┴─────────────┘│   │                   │\n",
       "└────────────────────────────────────────────┴───┴───────────────────┘\n",
       "</pre>"
      ]
     },
     "execution_count": 13,
     "metadata": {},
     "output_type": "execute_result"
    }
   ],
   "source": [
    "T ← {⍺←3 ⋄ m b←(⊂⍵)RN¨(⍺ ⍺) ⍺ ⋄ ('' '⍴' '⍴¨',¨'x') Table x (⍴x) (⍴¨x←b ND m) ⋄ Assert b≡m+.×x}  ⍝ test\n",
    "T ⍬ ⋄ T 2 ⋄ T 2 2 ⋄ T 2 2 2  ⍝ scalar, vector, matrix and 3D array"
   ]
  },
  {
   "cell_type": "markdown",
   "id": "20c9c6ed",
   "metadata": {},
   "source": [
    "# Each nested\n",
    "\n",
    "Applying a function like this, to each of the nested elements of the array but keeping the outer structure, looks like a useful operation. So, we are going to define an operator.\n",
    "\n",
    "The `ND` function that we defined before could easily be modified to be an *each nested* operator that works with any function:"
   ]
  },
  {
   "cell_type": "code",
   "execution_count": 14,
   "id": "cf6ab079",
   "metadata": {},
   "outputs": [],
   "source": [
    "_EN ← {⊂⍉⍤¯1⍉⍺ ⍺⍺⍤1 2⍥(↑[¯0.5])⍵}   ⍝ each nested\n",
    " ND ← ⌹_EN\n",
    "_ ← T¨⍬ 2 (2 2) (2 2 2)"
   ]
  },
  {
   "cell_type": "markdown",
   "id": "fbe87453",
   "metadata": {},
   "source": [
    "However, this operator is not very general. It will work when we have matrices as right argument and vectors on the left, but it will not work for arrays of any rank. For example, let's try to use the matrix divide primitive (`⌹`) to perform a least-squares fitting with two vectors:"
   ]
  },
  {
   "cell_type": "code",
   "execution_count": 15,
   "id": "b3ef32f8",
   "metadata": {},
   "outputs": [
    {
     "data": {
      "text/html": [
       "<pre class=\"language-APL\">┌───────────────────┬─────────────────┬───┬───────┐\n",
       "│a                  │b                │⍴  │⌹      │\n",
       "├───────────────────┼─────────────────┼───┼───────┤\n",
       "│┌─────┬─────┬─────┐│┌─────┬─────┬───┐│┌─┐│┌─────┐│\n",
       "││0.443│0.601│0.305│││0.626│0.153│0.8│││3│││0.581││\n",
       "│└─────┴─────┴─────┘│└─────┴─────┴───┘│└─┘│└─────┘│\n",
       "└───────────────────┴─────────────────┴───┴───────┘\n",
       "</pre>"
      ]
     },
     "execution_count": 15,
     "metadata": {},
     "output_type": "execute_result"
    },
    {
     "data": {
      "text/html": [
       "<pre class=\"language-APL\">┌───────────────────────────────────┬────────────────────────────────────┬───┬─────────────┐\n",
       "│a                                  │b                                   │⍴  │¨            │\n",
       "├───────────────────────────────────┼────────────────────────────────────┼───┼─────────────┤\n",
       "│┌──────────┬──────────┬───────────┐│┌───────────┬───────────┬──────────┐│┌─┐│┌───┬───┬───┐│\n",
       "││1.74 3.11 │1.05 0.304│2.67  1.65 │││4.44   3.08│0.369 1.8  │1.59 0.299│││3│││4 2│4 2│4 2││\n",
       "││3.98 4.11 │2.66 2.41 │0.304 1.59 │││4.49   4.91│4.28  0.657│2.35 3.36 ││└─┘│└───┴───┴───┘│\n",
       "││2.77 0.47 │4.63 1.63 │4.32  0.991│││0.0189 3.15│1.61  2.24 │1.59 3.09 ││   │             │\n",
       "││4.75 0.304│2.58 1.48 │3.75  0.654│││1.46   3.48│4.73  2.68 │3.43 2.42 ││   │             │\n",
       "│└──────────┴──────────┴───────────┘│└───────────┴───────────┴──────────┘│   │             │\n",
       "└───────────────────────────────────┴────────────────────────────────────┴───┴─────────────┘\n",
       "</pre>"
      ]
     },
     "execution_count": 15,
     "metadata": {},
     "output_type": "execute_result"
    },
    {
     "name": "stderr",
     "output_type": "stream",
     "text": [
      "RANK ERROR\n",
      "_EN[0] _EN←{⊂⍉⍤¯1⍉⍺ ⍺⍺⍤1 2⍥(↑[¯0.5])⍵}   ⍝ each nested\n",
      "                       ∧\n"
     ]
    }
   ],
   "source": [
    "a b ← ?3 3⍴¨0                ⍝ random input data\n",
    "'ab⍴⌹' Table a b (⍴a) (a⌹b)  ⍝ flat arrays just work\n",
    "a b ← (⊂4 2)RN¨3 3           ⍝ random nested arrays\n",
    "'ab⍴¨' Table a b (⍴a) (⍴¨a)\n",
    "a ⌹_EN b"
   ]
  },
  {
   "cell_type": "markdown",
   "id": "416852c7",
   "metadata": {},
   "source": [
    "Instead of hardcoding the ranks inside the operator, we can check what is the rank of our nested elements looking at the first element in `⍵`. We will use this rank to transpose subarrays (`⍉⍤(⍴⍴⊃⍵)`). The rank to apply the given function is calculated from the ranks of the left and right arguments (`⊃∘⍴∘⍴¨⍺ ⍵`):"
   ]
  },
  {
   "cell_type": "code",
   "execution_count": 16,
   "id": "b4ab8a19",
   "metadata": {},
   "outputs": [
    {
     "data": {
      "text/html": [
       "<pre class=\"language-APL\">┌───┬───┬────┬─────────┐\n",
       "│⍴a │⍴b │⍴⍴⊃b│⊃∘⍴∘⍴¨a b│\n",
       "├───┼───┼────┼─────────┤\n",
       "│┌─┐│┌─┐│┌─┐ │┌─┬─┐    │\n",
       "││3│││3│││2│ ││1│1│    │\n",
       "│└─┘│└─┘│└─┘ │└─┴─┘    │\n",
       "└───┴───┴────┴─────────┘\n",
       "</pre>"
      ]
     },
     "execution_count": 16,
     "metadata": {},
     "output_type": "execute_result"
    },
    {
     "data": {
      "text/html": [
       "<pre class=\"language-APL\">┌───────────────────────────────────┬────────────────────────────────────┬─────────────┐\n",
       "│a                                  │b                                   │⌹            │\n",
       "├───────────────────────────────────┼────────────────────────────────────┼─────────────┤\n",
       "│┌──────────┬──────────┬───────────┐│┌───────────┬───────────┬──────────┐│┌───────────┐│\n",
       "││1.74 3.11 │1.05 0.304│2.67  1.65 │││4.44   3.08│0.369 1.8  │1.59 0.299│││0.553 0.828││\n",
       "││3.98 4.11 │2.66 2.41 │0.304 1.59 │││4.49   4.91│4.28  0.657│2.35 3.36 │││0.682 0.756││\n",
       "││2.77 0.47 │4.63 1.63 │4.32  0.991│││0.0189 3.15│1.61  2.24 │1.59 3.09 │││2.81  0.335││\n",
       "││4.75 0.304│2.58 1.48 │3.75  0.654│││1.46   3.48│4.73  2.68 │3.43 2.42 │││0.883 0.263││\n",
       "│└──────────┴──────────┴───────────┘│└───────────┴───────────┴──────────┘│└───────────┘│\n",
       "└───────────────────────────────────┴────────────────────────────────────┴─────────────┘\n",
       "</pre>"
      ]
     },
     "execution_count": 16,
     "metadata": {},
     "output_type": "execute_result"
    }
   ],
   "source": [
    "'⍴a' '⍴b' '⍴⍴⊃b' '⊃∘⍴∘⍴¨a b' Table (⍴a) (⍴b) (⍴⍴⊃b) (⊃∘⍴∘⍴¨a b)\n",
    "_EN ← {⍺←⊢ ⋄ ⊂∘⍉⍤(⍴⍴⊃⍵)∘⍉ ⍺ ⍺⍺⍤(⊃∘⍴∘⍴¨⍺ ⍵)⍥(↑[¯0.5]) ⍵}   ⍝ each nested\n",
    " MD ← ⌹_EN\n",
    "_ ← T¨⍬ 2 (2 2) (2 2 2)\n",
    "'ab⌹' Table a b (a ⌹_EN b)"
   ]
  },
  {
   "cell_type": "markdown",
   "id": "c91b372c",
   "metadata": {},
   "source": [
    "The `_EN` operator can now be used either to solve a linear system or perform a least-squares fitting, and it will do the right thing.\n",
    "\n",
    "Of course, `⌹` is not the only function we can use with `_EN`. As a last example, let's take the `LF` function from the [Linear Fitting notebook](https://github.com/Dyalog/dyalog-jupyter-notebooks/blob/master/Linear%20Fitting.ipynb), which performs a linear fitting given a list of two vectors and returns the intercept, the slope and the R-squared value. For convenience, we also define a dyadic linear fitting function:"
   ]
  },
  {
   "cell_type": "code",
   "execution_count": 17,
   "id": "635e416c",
   "metadata": {},
   "outputs": [
    {
     "data": {
      "text/html": [
       "<pre class=\"language-APL\">┌──────────────────────┬──────────────────────┐\n",
       "│x                     │y                     │\n",
       "├──────────────────────┼──────────────────────┤\n",
       "│┌────┬─────┬────┬────┐│┌────┬─────┬───┬─────┐│\n",
       "││2.54│0.993│4.14│0.45│││2.01│0.957│1.3│0.522││\n",
       "│└────┴─────┴────┴────┘│└────┴─────┴───┴─────┘│\n",
       "└──────────────────────┴──────────────────────┘\n",
       "</pre>"
      ]
     },
     "execution_count": 17,
     "metadata": {},
     "output_type": "execute_result"
    },
    {
     "data": {
      "text/html": [
       "<pre class=\"language-APL\">┌───────┬───────┬───────┐\n",
       "│a      │b      │r      │\n",
       "├───────┼───────┼───────┤\n",
       "│┌─────┐│┌─────┐│┌─────┐│\n",
       "││0.721│││0.234│││0.383││\n",
       "│└─────┘│└─────┘│└─────┘│\n",
       "└───────┴───────┴───────┘\n",
       "</pre>"
      ]
     },
     "execution_count": 17,
     "metadata": {},
     "output_type": "execute_result"
    }
   ],
   "source": [
    "_R2 ← {1-(+/×⍨⍺-⍺⍺⍵)÷+/×⍨(⊢-+/÷≢)⍺}                                            ⍝ R-squared value\n",
    "LF  ← {F←{((a+b∘×)_R2/⍺),⍨a b←⍵} ⋄ 0=⎕NC'⍺': ⍵F⊃⌹∘(1,⍪⍤2⍤⊢)/⍵ ⋄ ⍵F⍺(⌹/⍵-⍺ 0)}  ⍝ linear fitting\n",
    "DLF ← LF⍤,⍥⊂                                                                   ⍝ dyadic linear fitting\n",
    "⍝ eg with non nested values\n",
    "'xy' Table x y←5×?0⍴⍨¨4 4\n",
    "'abr' Table y DLF x"
   ]
  },
  {
   "cell_type": "markdown",
   "id": "d7cfbd68",
   "metadata": {},
   "source": [
    "If we have nested data, we use the `_EN` operator:"
   ]
  },
  {
   "cell_type": "code",
   "execution_count": 18,
   "id": "2cf3e31b",
   "metadata": {},
   "outputs": [
    {
     "data": {
      "text/html": [
       "<pre class=\"language-APL\">┌─────────────────────────────────────────────┬───────────────────────────────────────────┐\n",
       "│x                                            │y                                          │\n",
       "├─────────────────────────────────────────────┼───────────────────────────────────────────┤\n",
       "│┌───────────┬─────────┬─────────┬───────────┐│┌──────────┬──────────┬─────────┬─────────┐│\n",
       "││4.82  4.91 │2.78 4.11│4.06 2.72│3.45  0.463│││0.386 3.28│0.789 3.13│2.04 1.93│4.78 3.07││\n",
       "││0.684 0.376│4.75 1.31│4.4  4.28│4.55  3.72 │││4.95  1.37│2.37  4.79│3.87 1.94│2.93 2.42││\n",
       "││0.98  2.28 │1.13 3.31│1.15 4.08│0.246 4.01 │││2.33  3.67│0.731 3.62│0.81 3.82│1.61 3.67││\n",
       "│└───────────┴─────────┴─────────┴───────────┘│└──────────┴──────────┴─────────┴─────────┘│\n",
       "└─────────────────────────────────────────────┴───────────────────────────────────────────┘\n",
       "</pre>"
      ]
     },
     "execution_count": 18,
     "metadata": {},
     "output_type": "execute_result"
    },
    {
     "data": {
      "text/html": [
       "<pre class=\"language-APL\">┌───────────┬───────────────┬───────────────┐\n",
       "│a          │b              │r              │\n",
       "├───────────┼───────────────┼───────────────┤\n",
       "│┌────┬────┐│┌──────┬──────┐│┌──────┬──────┐│\n",
       "││4.28│2.63│││¯0.605│0.0741│││0.0702│0.0541││\n",
       "│├────┼────┤│├──────┼──────┤│├──────┼──────┤│\n",
       "││5.35│2.95│││¯0.507│¯0.132│││0.765 │0.0272││\n",
       "│├────┼────┤│├──────┼──────┤│├──────┼──────┤│\n",
       "││1.95│3.52│││¯0.666│0.0525│││0.142 │0.259 ││\n",
       "│└────┴────┘│└──────┴──────┘│└──────┴──────┘│\n",
       "└───────────┴───────────────┴───────────────┘\n",
       "</pre>"
      ]
     },
     "execution_count": 18,
     "metadata": {},
     "output_type": "execute_result"
    }
   ],
   "source": [
    "'xy' Table x y←(⊂3 2)RN¨4 4\n",
    "'abr' Table y DLF _EN x"
   ]
  },
  {
   "cell_type": "markdown",
   "id": "04180fcd",
   "metadata": {},
   "source": [
    "It is also possible to use the `_EN` operator when both arguments do not have the same rank."
   ]
  },
  {
   "cell_type": "code",
   "execution_count": 19,
   "id": "171f4037",
   "metadata": {},
   "outputs": [
    {
     "data": {
      "text/html": [
       "<pre class=\"language-APL\">┌─────────────────────────────────────────────┬────────────────────┐\n",
       "│x                                            │y                   │\n",
       "├─────────────────────────────────────────────┼────────────────────┤\n",
       "│┌───────────┬─────────┬─────────┬───────────┐│┌────┬────┬────┬───┐│\n",
       "││4.82  4.91 │2.78 4.11│4.06 2.72│3.45  0.463│││1.52│2.61│3.38│1.2││\n",
       "││0.684 0.376│4.75 1.31│4.4  4.28│4.55  3.72 ││└────┴────┴────┴───┘│\n",
       "││0.98  2.28 │1.13 3.31│1.15 4.08│0.246 4.01 ││                    │\n",
       "│└───────────┴─────────┴─────────┴───────────┘│                    │\n",
       "└─────────────────────────────────────────────┴────────────────────┘\n",
       "</pre>"
      ]
     },
     "execution_count": 19,
     "metadata": {},
     "output_type": "execute_result"
    },
    {
     "data": {
      "text/html": [
       "<pre class=\"language-APL\">┌─────────────┬──────────────┬───────────────┐\n",
       "│a            │b             │r              │\n",
       "├─────────────┼──────────────┼───────────────┤\n",
       "│┌─────┬─────┐│┌──────┬─────┐│┌──────┬──────┐│\n",
       "││2.95 │1.82 │││¯0.206│0.117│││0.0316│0.0519││\n",
       "│├─────┼─────┤│├──────┼─────┤│├──────┼──────┤│\n",
       "││1.4  │1.76 │││0.217 │0.174│││0.176 │0.106 ││\n",
       "│├─────┼─────┤│├──────┼─────┤│├──────┼──────┤│\n",
       "││0.603│0.659│││1.8   │0.444│││0.585 │0.136 ││\n",
       "│└─────┴─────┘│└──────┴─────┘│└──────┴──────┘│\n",
       "└─────────────┴──────────────┴───────────────┘\n",
       "</pre>"
      ]
     },
     "execution_count": 19,
     "metadata": {},
     "output_type": "execute_result"
    }
   ],
   "source": [
    "'xy' Table x (y1←5×?4⍴0)\n",
    "'abr' Table y1 DLF _EN x"
   ]
  },
  {
   "cell_type": "markdown",
   "id": "af8a74de",
   "metadata": {},
   "source": [
    "But take into account that `_EN` will deduce the shape of the elements from the first element in the right argument, so you may have to switch the arguments:"
   ]
  },
  {
   "cell_type": "code",
   "execution_count": 20,
   "id": "0fcbb040",
   "metadata": {},
   "outputs": [
    {
     "data": {
      "text/html": [
       "<pre class=\"language-APL\">┌──────────────────────┬───────────────────────────────────────────┐\n",
       "│x                     │y                                          │\n",
       "├──────────────────────┼───────────────────────────────────────────┤\n",
       "│┌────┬────┬────┬─────┐│┌──────────┬──────────┬─────────┬─────────┐│\n",
       "││3.75│3.36│2.51│0.692│││0.386 3.28│0.789 3.13│2.04 1.93│4.78 3.07││\n",
       "│└────┴────┴────┴─────┘││4.95  1.37│2.37  4.79│3.87 1.94│2.93 2.42││\n",
       "│                      ││2.33  3.67│0.731 3.62│0.81 3.82│1.61 3.67││\n",
       "│                      │└──────────┴──────────┴─────────┴─────────┘│\n",
       "└──────────────────────┴───────────────────────────────────────────┘\n",
       "</pre>"
      ]
     },
     "execution_count": 20,
     "metadata": {},
     "output_type": "execute_result"
    },
    {
     "data": {
      "text/html": [
       "<pre class=\"language-APL\">┌───────────┬────────────────┬────────────────┐\n",
       "│a          │b               │r               │\n",
       "├───────────┼────────────────┼────────────────┤\n",
       "│┌────┬────┐│┌──────┬───────┐│┌───────┬──────┐│\n",
       "││5.75│2.68│││¯1.46 │0.068  │││0.999  │0.0221││\n",
       "│├────┼────┤│├──────┼───────┤│├───────┼──────┤│\n",
       "││2.66│2.32│││0.337 │0.119  │││0.165  │0.0116││\n",
       "│├────┼────┤│├──────┼───────┤│├───────┼──────┤│\n",
       "││1.27│3.72│││0.0386│¯0.0103│││0.00484│0.0264││\n",
       "│└────┴────┘│└──────┴───────┘│└───────┴──────┘│\n",
       "└───────────┴────────────────┴────────────────┘\n",
       "</pre>"
      ]
     },
     "execution_count": 20,
     "metadata": {},
     "output_type": "execute_result"
    }
   ],
   "source": [
    "'xy' Table (x1←5×?4⍴0) y\n",
    "'abr' Table x1 DLF⍨ _EN y"
   ]
  },
  {
   "cell_type": "markdown",
   "id": "c59a13dd",
   "metadata": {},
   "source": [
    "# Summary\n",
    "\n",
    "The `_EN` operator will apply the given function to each of the nested elements of its arguments, taking as model the first element of the right argument, while keeping the outer structure."
   ]
  },
  {
   "cell_type": "code",
   "execution_count": 21,
   "id": "f9d01d43",
   "metadata": {},
   "outputs": [
    {
     "data": {
      "text/html": [
       "<pre class=\"language-APL\">_EN ← {⍺←⊢ ⋄ ⊂∘⍉⍤(⍴⍴⊃⍵)∘⍉⍺ ⍺⍺⍤(⊃∘⍴∘⍴¨⍺ ⍵)⍥(↑[¯0.5])⍵}\n",
       "</pre>"
      ]
     },
     "execution_count": 21,
     "metadata": {},
     "output_type": "execute_result"
    }
   ],
   "source": [
    "]defs _EN"
   ]
  },
  {
   "cell_type": "code",
   "execution_count": null,
   "id": "f7562ba6",
   "metadata": {},
   "outputs": [],
   "source": []
  }
 ],
 "metadata": {
  "kernelspec": {
   "display_name": "Dyalog APL",
   "language": "apl",
   "name": "dyalog-kernel"
  },
  "language_info": {
   "file_extension": ".apl",
   "mimetype": "text/apl",
   "name": "APL"
  }
 },
 "nbformat": 4,
 "nbformat_minor": 5
}
