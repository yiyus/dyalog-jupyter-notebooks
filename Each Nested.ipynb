{
 "cells": [
  {
   "cell_type": "code",
   "execution_count": 1,
   "id": "2e0700d8",
   "metadata": {},
   "outputs": [
    {
     "data": {
      "text/html": [
       "<pre class=\"language-APL\">clear ws\n",
       "</pre>"
      ]
     },
     "execution_count": 1,
     "metadata": {},
     "output_type": "execute_result"
    }
   ],
   "source": [
    ")clear\n",
    "⎕IO ← 0\n",
    "⎕CT ← 1e¯10\n",
    "Assert ← {⍺←'assertion failure' ⋄ 0∊⍵:⍺ ⎕signal 8 ⋄ shy←0}   ⍝ by Roger Hui\n",
    "Table  ← {⎕PP←3 ⋄ ⍕¨¨⍺,[¯0.5]⍵}                              ⍝ display as table"
   ]
  },
  {
   "cell_type": "markdown",
   "id": "59c63c05",
   "metadata": {},
   "source": [
    "# Matrix divide\n",
    "The [`⌹` function](https://help.dyalog.com/latest/Content/Language/Primitive%20Functions/Matrix%20Divide.htm), when used dyadically (`b⌹m`), performs the matrix division of `b` by `m`. In case `b` is a vector and `m` is a matrix with shape `2⍴≢b`, the result of `b⌹m` will be the vector `x` which solves the linear system `b ≡ m +.× x`."
   ]
  },
  {
   "cell_type": "code",
   "execution_count": 2,
   "id": "bbab507e",
   "metadata": {},
   "outputs": [
    {
     "data": {
      "text/html": [
       "<pre class=\"language-APL\">┌─────────────────┬────────────────────┬───────────────────┐\n",
       "│b                │m                   │x                  │\n",
       "├─────────────────┼────────────────────┼───────────────────┤\n",
       "│┌─────┬─────┬───┐│┌─────┬──────┬─────┐│┌─────┬─────┬─────┐│\n",
       "││0.508│0.457│0.5│││0.205│0.506 │0.35 │││0.496│0.459│0.496││\n",
       "│└─────┴─────┴───┘│├─────┼──────┼─────┤│└─────┴─────┴─────┘│\n",
       "│                 ││0.773│0.0265│0.123││                   │\n",
       "│                 │├─────┼──────┼─────┤│                   │\n",
       "│                 ││0.506│0.417 │0.116││                   │\n",
       "│                 │└─────┴──────┴─────┘│                   │\n",
       "└─────────────────┴────────────────────┴───────────────────┘\n",
       "</pre>"
      ]
     },
     "execution_count": 2,
     "metadata": {},
     "output_type": "execute_result"
    }
   ],
   "source": [
    "b m←{?⍵⍴0}¨3 (3 3)  ⍝ random sample data\n",
    "'bmx' Table b m (x←b⌹m)\n",
    "Assert b ≡ m +.× x"
   ]
  },
  {
   "cell_type": "markdown",
   "id": "173546cb",
   "metadata": {},
   "source": [
    "# Matrix divide of nested vector elements\n",
    "\n",
    "Sometimes, we do not need to solve a linear system, but many linear systems. What if every element of our vector and every element of our matrix was an array with several values? Let's try it. We are going to divide a vector of 2-elements vectors by a matrix of 2-elements vectors:"
   ]
  },
  {
   "cell_type": "code",
   "execution_count": 3,
   "id": "9751d059",
   "metadata": {},
   "outputs": [
    {
     "data": {
      "text/html": [
       "<pre class=\"language-APL\">┌──────────────────────────────────────┬───┬───────┬────────────────────────────────────────┬─────┬───────┐\n",
       "│b                                     │⍴b │⍴¨b    │m                                       │⍴m   │⍴¨m    │\n",
       "├──────────────────────────────────────┼───┼───────┼────────────────────────────────────────┼─────┼───────┤\n",
       "│┌───────────┬───────────┬────────────┐│┌─┐│┌─┬─┬─┐│┌────────────┬────────────┬────────────┐│┌─┬─┐│┌─┬─┬─┐│\n",
       "││0.564 0.052│0.203 0.864│0.0701 0.542│││3│││2│2│2│││0.0715 0.694│0.918 0.074 │0.559 0.897 │││3│3│││2│2│2││\n",
       "│└───────────┴───────────┴────────────┘│└─┘│└─┴─┴─┘│├────────────┼────────────┼────────────┤│└─┴─┘│├─┼─┼─┤│\n",
       "│                                      │   │       ││0.196 0.939 │0.574 0.966 │0.0354 0.423││     ││2│2│2││\n",
       "│                                      │   │       │├────────────┼────────────┼────────────┤│     │├─┼─┼─┤│\n",
       "│                                      │   │       ││0.397 0.741 │0.303 0.0568│0.495 0.863 ││     ││2│2│2││\n",
       "│                                      │   │       │└────────────┴────────────┴────────────┘│     │└─┴─┴─┘│\n",
       "└──────────────────────────────────────┴───┴───────┴────────────────────────────────────────┴─────┴───────┘\n",
       "</pre>"
      ]
     },
     "execution_count": 3,
     "metadata": {},
     "output_type": "execute_result"
    },
    {
     "name": "stderr",
     "output_type": "stream",
     "text": [
      "DOMAIN ERROR\n",
      "      b⌹m\n",
      "       ∧\n"
     ]
    }
   ],
   "source": [
    "m b←2{↓?(⍵,⍺)⍴0}¨(3 3) 3  ⍝ random sample data\n",
    "(,⍉'' '⍴' '⍴¨'∘.,'bm') Table b (⍴b) (⍴¨b) m (⍴m) (⍴¨m)\n",
    "b⌹m"
   ]
  },
  {
   "cell_type": "markdown",
   "id": "531334c5",
   "metadata": {},
   "source": [
    "It does not work. We need to restructure the data so that we can use the [rank operator](https://help.dyalog.com/latest/Content/Language/Primitive%20Operators/Rank.htm), `⍤`. First, we mix the arrays, to get arrays of more dimensions:"
   ]
  },
  {
   "cell_type": "code",
   "execution_count": 4,
   "id": "cfe33b54",
   "metadata": {},
   "outputs": [
    {
     "data": {
      "text/html": [
       "<pre class=\"language-APL\">┌────────────────────┬──────────────────────┬──────┬───────┐\n",
       "│↑[0]b               │↑[0]m                 │⍴↑[0]b│⍴↑[0]m │\n",
       "├────────────────────┼──────────────────────┼──────┼───────┤\n",
       "│┌─────┬─────┬──────┐│┌──────┬──────┬──────┐│┌─┬─┐ │┌─┬─┬─┐│\n",
       "││0.564│0.203│0.0701│││0.0715│0.918 │0.559 │││2│3│ ││2│3│3││\n",
       "│├─────┼─────┼──────┤│├──────┼──────┼──────┤│└─┴─┘ │└─┴─┴─┘│\n",
       "││0.052│0.864│0.542 │││0.196 │0.574 │0.0354││      │       │\n",
       "│└─────┴─────┴──────┘│├──────┼──────┼──────┤│      │       │\n",
       "│                    ││0.397 │0.303 │0.495 ││      │       │\n",
       "│                    │└──────┴──────┴──────┘│      │       │\n",
       "│                    │┌──────┬──────┬──────┐│      │       │\n",
       "│                    ││0.694 │0.074 │0.897 ││      │       │\n",
       "│                    │├──────┼──────┼──────┤│      │       │\n",
       "│                    ││0.939 │0.966 │0.423 ││      │       │\n",
       "│                    │├──────┼──────┼──────┤│      │       │\n",
       "│                    ││0.741 │0.0568│0.863 ││      │       │\n",
       "│                    │└──────┴──────┴──────┘│      │       │\n",
       "└────────────────────┴──────────────────────┴──────┴───────┘\n",
       "</pre>"
      ]
     },
     "execution_count": 4,
     "metadata": {},
     "output_type": "execute_result"
    }
   ],
   "source": [
    "(,'' '⍴'∘.,(⊂'↑[0]'),¨'bm') Table (⊢,⍴¨)↑[0]¨b m"
   ]
  },
  {
   "cell_type": "markdown",
   "id": "524a9495",
   "metadata": {},
   "source": [
    "Now, matrix divide with the rank operator will work:"
   ]
  },
  {
   "cell_type": "code",
   "execution_count": 5,
   "id": "2c92b039",
   "metadata": {
    "scrolled": true
   },
   "outputs": [
    {
     "data": {
      "text/html": [
       "<pre class=\"language-APL\">┌──────────────────────────────────────┬────────────────────────────────────────┬────────────────────┐\n",
       "│b                                     │m                                       │x                   │\n",
       "├──────────────────────────────────────┼────────────────────────────────────────┼────────────────────┤\n",
       "│┌───────────┬───────────┬────────────┐│┌────────────┬────────────┬────────────┐│┌──────┬─────┬─────┐│\n",
       "││0.564 0.052│0.203 0.864│0.0701 0.542│││0.0715 0.694│0.918 0.074 │0.559 0.897 │││¯0.505│0.512│0.233││\n",
       "│└───────────┴───────────┴────────────┘│├────────────┼────────────┼────────────┤│├──────┼─────┼─────┤│\n",
       "│                                      ││0.196 0.939 │0.574 0.966 │0.0354 0.423│││6.13  │¯3.12│¯4.43││\n",
       "│                                      │├────────────┼────────────┼────────────┤│└──────┴─────┴─────┘│\n",
       "│                                      ││0.397 0.741 │0.303 0.0568│0.495 0.863 ││                    │\n",
       "│                                      │└────────────┴────────────┴────────────┘│                    │\n",
       "└──────────────────────────────────────┴────────────────────────────────────────┴────────────────────┘\n",
       "</pre>"
      ]
     },
     "execution_count": 5,
     "metadata": {},
     "output_type": "execute_result"
    }
   ],
   "source": [
    "'bmx' Table b m (x←b⌹⍤1 2⍥(↑[0])m)"
   ]
  },
  {
   "cell_type": "markdown",
   "id": "427fd16e",
   "metadata": {},
   "source": [
    "We already solved the linear system. However, the solution does not have the right structure:"
   ]
  },
  {
   "cell_type": "code",
   "execution_count": 6,
   "id": "c34765f6",
   "metadata": {},
   "outputs": [
    {
     "data": {
      "text/html": [
       "<pre class=\"language-APL\">┌────────────────────┬─────┬────┐\n",
       "│x                   │⍴x   │⍴¨x │\n",
       "├────────────────────┼─────┼────┤\n",
       "│┌──────┬─────┬─────┐│┌─┬─┐│┌┬┬┐│\n",
       "││¯0.505│0.512│0.233│││2│3│││││││\n",
       "│├──────┼─────┼─────┤│└─┴─┘│├┼┼┤│\n",
       "││6.13  │¯3.12│¯4.43││     ││││││\n",
       "│└──────┴─────┴─────┘│     │└┴┴┘│\n",
       "└────────────────────┴─────┴────┘\n",
       "</pre>"
      ]
     },
     "execution_count": 6,
     "metadata": {},
     "output_type": "execute_result"
    },
    {
     "name": "stderr",
     "output_type": "stream",
     "text": [
      "LENGTH ERROR\n",
      "      b≡m+.×x\n",
      "          ∧\n"
     ]
    }
   ],
   "source": [
    "('' '⍴' '⍴¨',¨'x') Table x (⍴x) (⍴¨x)\n",
    "b ≡ m +.× x"
   ]
  },
  {
   "cell_type": "markdown",
   "id": "1f764aad",
   "metadata": {},
   "source": [
    "We need to restructure the array again, so we split it, removing the first axis that we added before. This is getting a bit complicated, so we will define a *nested divide* function:"
   ]
  },
  {
   "cell_type": "code",
   "execution_count": 7,
   "id": "09eaac03",
   "metadata": {},
   "outputs": [
    {
     "data": {
      "text/html": [
       "<pre class=\"language-APL\">  ┌─┴──┐\n",
       "  [0]  ⍥\n",
       "┌─┘ ┌──┴───┐\n",
       "↓   ⍤      [0]\n",
       "   ┌┴┐   ┌─┘\n",
       "   ⌹ 1 2 ↑\n",
       "</pre>"
      ]
     },
     "execution_count": 7,
     "metadata": {},
     "output_type": "execute_result"
    },
    {
     "data": {
      "text/html": [
       "<pre class=\"language-APL\">┌─────────────────────────────────────┬───┬───────┐\n",
       "│x                                    │⍴x │⍴¨x    │\n",
       "├─────────────────────────────────────┼───┼───────┤\n",
       "│┌───────────┬───────────┬───────────┐│┌─┐│┌─┬─┬─┐│\n",
       "││¯0.505 6.13│0.512 ¯3.12│0.233 ¯4.43│││3│││2│2│2││\n",
       "│└───────────┴───────────┴───────────┘│└─┘│└─┴─┴─┘│\n",
       "└─────────────────────────────────────┴───┴───────┘\n",
       "</pre>"
      ]
     },
     "execution_count": 7,
     "metadata": {},
     "output_type": "execute_result"
    }
   ],
   "source": [
    "⎕ ← ND ← ↓[0]⌹⍤1 2⍥(↑[0])  ⍝ nested matrix divide\n",
    "('' '⍴' '⍴¨',¨'x') Table x (⍴x) (⍴¨x←b ND m)\n",
    "Assert b ≡ m +.× x"
   ]
  },
  {
   "cell_type": "markdown",
   "id": "83d46df7",
   "metadata": {},
   "source": [
    "We solved the two linear systems now! This time, we got a solution array `x` with exactly the same structure as `b`, so there is no error.\n",
    "\n",
    "# Matrix divide of nested array elements\n",
    "\n",
    "We are not done yet. What if our nested elements are not simple vectors but arrays with rank higher than 1?"
   ]
  },
  {
   "cell_type": "code",
   "execution_count": 8,
   "id": "457c04b2",
   "metadata": {},
   "outputs": [
    {
     "data": {
      "text/html": [
       "<pre class=\"language-APL\">┌─────────────────────────────────────────────┬─────┬─────────┐\n",
       "│m                                            │⍴m   │⍴¨m      │\n",
       "├─────────────────────────────────────────────┼─────┼─────────┤\n",
       "│┌─────────────────────┬─────────────────────┐│┌─┬─┐│┌───┬───┐│\n",
       "││2.88 2.79 4.01  2.81 │2.97 1.99 1.58 1.58  │││2│2│││3 4│3 4││\n",
       "││4.84 4.54 0.814 4.2  │4.82 1.14 2.69 1.36  ││└─┴─┘│├───┼───┤│\n",
       "││2.92 1.32 4.79  3.56 │1.04 1.09 1.18 3.38  ││     ││3 4│3 4││\n",
       "│├─────────────────────┼─────────────────────┤│     │└───┴───┘│\n",
       "││1.54 0.261 1.25 0.642│3.3   3.18  3.81 2.06││     │         │\n",
       "││1.02 4.87  2.19 0.712│0.186 2.96  1.98 4.39││     │         │\n",
       "││1.15 3.16  1.58 0.624│4.14  0.606 2.76 4.83││     │         │\n",
       "│└─────────────────────┴─────────────────────┘│     │         │\n",
       "└─────────────────────────────────────────────┴─────┴─────────┘\n",
       "</pre>"
      ]
     },
     "execution_count": 8,
     "metadata": {},
     "output_type": "execute_result"
    },
    {
     "data": {
      "text/html": [
       "<pre class=\"language-APL\">┌──────────────────────────────────────────────┬───┬─────────┐\n",
       "│b                                             │⍴b │⍴¨b      │\n",
       "├──────────────────────────────────────────────┼───┼─────────┤\n",
       "│┌────────────────────┬───────────────────────┐│┌─┐│┌───┬───┐│\n",
       "││2.45  2.75 3.92 3.51│1.05  2    2.21 2.58   │││2│││3 4│3 4││\n",
       "││0.404 3.29 3.69 1.61│0.312 2.77 2.36 0.527  ││└─┘│└───┴───┘│\n",
       "││2.89  4.73 1.58 1.21│4.14  3.78 1.74 0.00454││   │         │\n",
       "│└────────────────────┴───────────────────────┘│   │         │\n",
       "└──────────────────────────────────────────────┴───┴─────────┘\n",
       "</pre>"
      ]
     },
     "execution_count": 8,
     "metadata": {},
     "output_type": "execute_result"
    },
    {
     "data": {
      "text/html": [
       "<pre class=\"language-APL\">┌────────────────────────────────────────┬─────┬─────┐\n",
       "│x                                       │⍴x   │⍴¨x  │\n",
       "├────────────────────────────────────────┼─────┼─────┤\n",
       "│┌──────────────────┬───────────────────┐│┌─┬─┐│┌─┬─┐│\n",
       "││1 0.354 0.702     │¯0.152 ¯0.272 0.805│││4│2│││3│3││\n",
       "│├──────────────────┼───────────────────┤│└─┴─┘│├─┼─┤│\n",
       "││0.57 0.835 0.472  │0.582 ¯0.436 3.78  ││     ││3│3││\n",
       "│├──────────────────┼───────────────────┤│     │├─┼─┤│\n",
       "││0.859 ¯0.224 0.203│0.297 1.44 0.515   ││     ││3│3││\n",
       "│├──────────────────┼───────────────────┤│     │├─┼─┤│\n",
       "││0.66 0.364 0.385  │1.04 0.061 ¯0.0488 ││     ││3│3││\n",
       "│└──────────────────┴───────────────────┘│     │└─┴─┘│\n",
       "└────────────────────────────────────────┴─────┴─────┘\n",
       "</pre>"
      ]
     },
     "execution_count": 8,
     "metadata": {},
     "output_type": "execute_result"
    },
    {
     "name": "stderr",
     "output_type": "stream",
     "text": [
      "LENGTH ERROR\n",
      "      b≡m+.×x\n",
      "          ∧\n"
     ]
    }
   ],
   "source": [
    "RN ← {5×⊂⍤(≢⍺)?(⍵,⍺)⍴0}  ⍝ random nested. ⍺ shape of element, ⍵ shape of array\n",
    "m b←(⊂3 4)RN¨(2 2) 2  ⍝ random sample data\n",
    "('' '⍴' '⍴¨',¨'m') Table m (⍴m) (⍴¨m)\n",
    "('' '⍴' '⍴¨',¨'b') Table b (⍴b) (⍴¨b)\n",
    "('' '⍴' '⍴¨',¨'x') Table x (⍴x) (⍴¨x←b ND m)\n",
    "b ≡ m +.× x"
   ]
  },
  {
   "cell_type": "markdown",
   "id": "888f3aa9",
   "metadata": {},
   "source": [
    "We actually solved the system, but obviously `↓[0]` was not enough to restructure the result value as needed. We only removed one axis, but we added two with `↑[0]`. Since we want to nest more than one axis, we will use the [enclose function](), `⊂`, together with the rank operator, instead of split. But there is another problem. Let's have a look at the shape of the result of the matrix divide:"
   ]
  },
  {
   "cell_type": "code",
   "execution_count": 9,
   "id": "739028ff",
   "metadata": {},
   "outputs": [
    {
     "data": {
      "text/html": [
       "<pre class=\"language-APL\">┌────────────────┬───────┬───┐\n",
       "│d               │⍴d     │⍴¨d│\n",
       "├────────────────┼───────┼───┤\n",
       "│┌──────┬───────┐│┌─┬─┬─┐│┌┬┐│\n",
       "││1     │¯0.152 │││3│4│2││││││\n",
       "│├──────┼───────┤│└─┴─┴─┘│├┼┤│\n",
       "││0.57  │0.582  ││       │││││\n",
       "│├──────┼───────┤│       │├┼┤│\n",
       "││0.859 │0.297  ││       │││││\n",
       "│├──────┼───────┤│       │├┼┤│\n",
       "││0.66  │1.04   ││       │││││\n",
       "│└──────┴───────┘│       │└┴┘│\n",
       "│┌──────┬───────┐│       │┌┬┐│\n",
       "││0.354 │¯0.272 ││       │││││\n",
       "│├──────┼───────┤│       │├┼┤│\n",
       "││0.835 │¯0.436 ││       │││││\n",
       "│├──────┼───────┤│       │├┼┤│\n",
       "││¯0.224│1.44   ││       │││││\n",
       "│├──────┼───────┤│       │├┼┤│\n",
       "││0.364 │0.061  ││       │││││\n",
       "│└──────┴───────┘│       │└┴┘│\n",
       "│┌──────┬───────┐│       │┌┬┐│\n",
       "││0.702 │0.805  ││       │││││\n",
       "│├──────┼───────┤│       │├┼┤│\n",
       "││0.472 │3.78   ││       │││││\n",
       "│├──────┼───────┤│       │├┼┤│\n",
       "││0.203 │0.515  ││       │││││\n",
       "│├──────┼───────┤│       │├┼┤│\n",
       "││0.385 │¯0.0488││       │││││\n",
       "│└──────┴───────┘│       │└┴┘│\n",
       "└────────────────┴───────┴───┘\n",
       "</pre>"
      ]
     },
     "execution_count": 9,
     "metadata": {},
     "output_type": "execute_result"
    }
   ],
   "source": [
    "('' '⍴' '⍴¨',¨'d') Table d (⍴d) (⍴¨d←b⌹⍤1 2⍥(↑[0])m) "
   ]
  },
  {
   "cell_type": "markdown",
   "id": "a6c65276",
   "metadata": {},
   "source": [
    "What we want to do is to have the same structure of `b` (a vector of 2 elements, each of them a 3 4 array). The goal is to get rid of the first two axes, but enclose will remove the last ones. So, we need to transpose the array first. \n",
    "\n",
    "This might be done with a dyadic transpose. However, then we would need to first find the length of the current shape, then generate the indices, rotate them and do the transpose. Instead, we will use two monadic transposes with different ranks, which will have the same effect. First, we do a transpose rotating all the elements of the shape, then we do another transpose but this one with rank ¯1, to rotate only the subarrays while leaving the first axis unchanged:"
   ]
  },
  {
   "cell_type": "code",
   "execution_count": 10,
   "id": "8d1544ef",
   "metadata": {},
   "outputs": [
    {
     "data": {
      "text/html": [
       "<pre class=\"language-APL\">┌───────────────────────┬───────┬────┐\n",
       "│x                      │⍴x     │⍴¨x │\n",
       "├───────────────────────┼───────┼────┤\n",
       "│┌──────┬──────┬───────┐│┌─┬─┬─┐│┌┬┬┐│\n",
       "││1     │0.354 │0.702  │││2│4│3│││││││\n",
       "│├──────┼──────┼───────┤│└─┴─┴─┘│├┼┼┤│\n",
       "││0.57  │0.835 │0.472  ││       ││││││\n",
       "│├──────┼──────┼───────┤│       │├┼┼┤│\n",
       "││0.859 │¯0.224│0.203  ││       ││││││\n",
       "│├──────┼──────┼───────┤│       │├┼┼┤│\n",
       "││0.66  │0.364 │0.385  ││       ││││││\n",
       "│└──────┴──────┴───────┘│       │└┴┴┘│\n",
       "│┌──────┬──────┬───────┐│       │┌┬┬┐│\n",
       "││¯0.152│¯0.272│0.805  ││       ││││││\n",
       "│├──────┼──────┼───────┤│       │├┼┼┤│\n",
       "││0.582 │¯0.436│3.78   ││       ││││││\n",
       "│├──────┼──────┼───────┤│       │├┼┼┤│\n",
       "││0.297 │1.44  │0.515  ││       ││││││\n",
       "│├──────┼──────┼───────┤│       │├┼┼┤│\n",
       "││1.04  │0.061 │¯0.0488││       ││││││\n",
       "│└──────┴──────┴───────┘│       │└┴┴┘│\n",
       "└───────────────────────┴───────┴────┘\n",
       "</pre>"
      ]
     },
     "execution_count": 10,
     "metadata": {},
     "output_type": "execute_result"
    },
    {
     "data": {
      "text/html": [
       "<pre class=\"language-APL\">┌──────────────────────────────┬───────┬─────┐\n",
       "│x                             │⍴x     │⍴¨x  │\n",
       "├──────────────────────────────┼───────┼─────┤\n",
       "│┌──────┬──────┬──────┬───────┐│┌─┬─┬─┐│┌┬┬┬┐│\n",
       "││1     │0.57  │0.859 │0.66   │││2│3│4││││││││\n",
       "│├──────┼──────┼──────┼───────┤│└─┴─┴─┘│├┼┼┼┤│\n",
       "││0.354 │0.835 │¯0.224│0.364  ││       │││││││\n",
       "│├──────┼──────┼──────┼───────┤│       │├┼┼┼┤│\n",
       "││0.702 │0.472 │0.203 │0.385  ││       │││││││\n",
       "│└──────┴──────┴──────┴───────┘│       │└┴┴┴┘│\n",
       "│┌──────┬──────┬──────┬───────┐│       │┌┬┬┬┐│\n",
       "││¯0.152│0.582 │0.297 │1.04   ││       │││││││\n",
       "│├──────┼──────┼──────┼───────┤│       │├┼┼┼┤│\n",
       "││¯0.272│¯0.436│1.44  │0.061  ││       │││││││\n",
       "│├──────┼──────┼──────┼───────┤│       │├┼┼┼┤│\n",
       "││0.805 │3.78  │0.515 │¯0.0488││       │││││││\n",
       "│└──────┴──────┴──────┴───────┘│       │└┴┴┴┘│\n",
       "└──────────────────────────────┴───────┴─────┘\n",
       "</pre>"
      ]
     },
     "execution_count": 10,
     "metadata": {},
     "output_type": "execute_result"
    }
   ],
   "source": [
    "Assert (⍉⍤¯1⍉d) ≡ (1⌽⍳≢⍴d)⍉d     ⍝ two monadic transposes match dyadic transpose\n",
    "('' '⍴' '⍴¨',¨'x') Table x (⍴x) (⍴¨x←⍉d)      ⍝ first monadic transpose (rank ⍴⍴d)\n",
    "('' '⍴' '⍴¨',¨'x') Table x (⍴x) (⍴¨x←⍉⍤¯1⍉d)  ⍝ second monadic transpose (rank (⍴⍴d)-1)"
   ]
  },
  {
   "cell_type": "markdown",
   "id": "df3d68ca",
   "metadata": {},
   "source": [
    "Almost there. We just need to enclose with rank two to nest the subarrays, removing the last two elements of the shape:"
   ]
  },
  {
   "cell_type": "code",
   "execution_count": 11,
   "id": "33c37bbc",
   "metadata": {},
   "outputs": [
    {
     "data": {
      "text/html": [
       "<pre class=\"language-APL\">┌──────────────────────────────────────────────────────┬───┬─────────┐\n",
       "│x                                                     │⍴x │⍴¨x      │\n",
       "├──────────────────────────────────────────────────────┼───┼─────────┤\n",
       "│┌────────────────────────┬───────────────────────────┐│┌─┐│┌───┬───┐│\n",
       "││1     0.57   0.859 0.66 │¯0.152  0.582 0.297  1.04  │││2│││3 4│3 4││\n",
       "││0.354 0.835 ¯0.224 0.364│¯0.272 ¯0.436 1.44   0.061 ││└─┘│└───┴───┘│\n",
       "││0.702 0.472  0.203 0.385│ 0.805  3.78  0.515 ¯0.0488││   │         │\n",
       "│└────────────────────────┴───────────────────────────┘│   │         │\n",
       "└──────────────────────────────────────────────────────┴───┴─────────┘\n",
       "</pre>"
      ]
     },
     "execution_count": 11,
     "metadata": {},
     "output_type": "execute_result"
    }
   ],
   "source": [
    "('' '⍴' '⍴¨',¨'x') Table x (⍴x) (⍴¨x←⊂⍤¯1⍉⍤¯1⍉d)"
   ]
  },
  {
   "cell_type": "markdown",
   "id": "df196d81",
   "metadata": {},
   "source": [
    "Done! Let's redefine our nested divide function:"
   ]
  },
  {
   "cell_type": "code",
   "execution_count": 12,
   "id": "303dc877",
   "metadata": {
    "scrolled": false
   },
   "outputs": [
    {
     "data": {
      "text/html": [
       "<pre class=\"language-APL\">   ┌──┴───┐\n",
       "   ∘      ⍥\n",
       "  ┌┴┐  ┌──┴───┐\n",
       "  ⍤ ⍉  ⍤      [0]\n",
       " ┌┴┐  ┌┴┐   ┌─┘\n",
       " ∘ ¯1 ⌹ 1 2 ↑\n",
       "┌┴┐\n",
       "⊂ ⍉\n",
       "</pre>"
      ]
     },
     "execution_count": 12,
     "metadata": {},
     "output_type": "execute_result"
    },
    {
     "data": {
      "text/html": [
       "<pre class=\"language-APL\">┌──────────────────────────────────────────────────────┬───┬─────────┐\n",
       "│x                                                     │⍴x │⍴¨x      │\n",
       "├──────────────────────────────────────────────────────┼───┼─────────┤\n",
       "│┌────────────────────────┬───────────────────────────┐│┌─┐│┌───┬───┐│\n",
       "││1     0.57   0.859 0.66 │¯0.152  0.582 0.297  1.04  │││2│││3 4│3 4││\n",
       "││0.354 0.835 ¯0.224 0.364│¯0.272 ¯0.436 1.44   0.061 ││└─┘│└───┴───┘│\n",
       "││0.702 0.472  0.203 0.385│ 0.805  3.78  0.515 ¯0.0488││   │         │\n",
       "│└────────────────────────┴───────────────────────────┘│   │         │\n",
       "└──────────────────────────────────────────────────────┴───┴─────────┘\n",
       "</pre>"
      ]
     },
     "execution_count": 12,
     "metadata": {},
     "output_type": "execute_result"
    }
   ],
   "source": [
    "⎕ ← ND ← ⊂∘⍉⍤¯1∘⍉⌹⍤1 2⍥(↑[0])  ⍝ nested matrix divide\n",
    "('' '⍴' '⍴¨',¨'x') Table x (⍴x) (⍴¨x←b ND m)\n",
    "Assert b ≡ m +.× x"
   ]
  },
  {
   "cell_type": "markdown",
   "id": "b22af62e",
   "metadata": {},
   "source": [
    "Everything looks fine. To make sure our function is doing the right thing, let's try it with arrays of other ranks:"
   ]
  },
  {
   "cell_type": "code",
   "execution_count": 13,
   "id": "42400d05",
   "metadata": {},
   "outputs": [
    {
     "data": {
      "text/html": [
       "<pre class=\"language-APL\">┌────────────────────┬───┬────┐\n",
       "│x                   │⍴x │⍴¨x │\n",
       "├────────────────────┼───┼────┤\n",
       "│┌──────┬────┬──────┐│┌─┐│┌┬┬┐│\n",
       "││¯0.976│1.42│0.0886│││3│││││││\n",
       "│└──────┴────┴──────┘│└─┘│└┴┴┘│\n",
       "└────────────────────┴───┴────┘\n",
       "┌───────────────────────────────────┬───┬───────┐\n",
       "│x                                  │⍴x │⍴¨x    │\n",
       "├───────────────────────────────────┼───┼───────┤\n",
       "│┌───────────┬──────────┬──────────┐│┌─┐│┌─┬─┬─┐│\n",
       "││¯3.67 ¯1.37│¯4.89 3.58│14.9 ¯3.53│││3│││2│2│2││\n",
       "│└───────────┴──────────┴──────────┘│└─┘│└─┴─┴─┘│\n",
       "└───────────────────────────────────┴───┴───────┘\n",
       "┌────────────────────────────────────┬───┬─────────────┐\n",
       "│x                                   │⍴x │⍴¨x          │\n",
       "├────────────────────────────────────┼───┼─────────────┤\n",
       "│┌──────────┬────────────┬──────────┐│┌─┐│┌───┬───┬───┐│\n",
       "││0.732 1.61│¯2.25   2.25│2.46 ¯1.96│││3│││2 2│2 2│2 2││\n",
       "││0.765 2.3 │¯0.973 ¯1.82│1.03  1.16││└─┘│└───┴───┴───┘│\n",
       "│└──────────┴────────────┴──────────┘│   │             │\n",
       "└────────────────────────────────────┴───┴─────────────┘\n",
       "┌───────────────────────────────────────────┬───┬───────────────────┐\n",
       "│x                                          │⍴x │⍴¨x                │\n",
       "├───────────────────────────────────────────┼───┼───────────────────┤\n",
       "│┌────────────┬────────────┬───────────────┐│┌─┐│┌─────┬─────┬─────┐│\n",
       "││¯0.283 0.202│0.814   1.23│ 0.524  ¯0.807 │││3│││2 2 2│2 2 2│2 2 2││\n",
       "││¯1.44  2    │1.48   ¯1.81│ 1.62    1.52  ││└─┘│└─────┴─────┴─────┘│\n",
       "││            │            │               ││   │                   │\n",
       "││¯1.62  1.27 │2.56    7.03│¯0.944  ¯3.55  ││   │                   │\n",
       "││ 0.929 6.7  │0.0887 ¯5.61│ 0.0106 ¯0.0979││   │                   │\n",
       "│└────────────┴────────────┴───────────────┘│   │                   │\n",
       "└───────────────────────────────────────────┴───┴───────────────────┘\n",
       "</pre>"
      ]
     },
     "execution_count": 13,
     "metadata": {},
     "output_type": "execute_result"
    }
   ],
   "source": [
    "T ← {⍺←3 ⋄ m b←(⊂⍵)RN¨(⍺ ⍺) ⍺ ⋄ ('' '⍴' '⍴¨',¨'x') Table x (⍴x) (⍴¨x←b ND m) ⋄ Assert b≡m+.×x}  ⍝ test\n",
    "T ⍬ ⋄ T 2 ⋄ T 2 2 ⋄ T 2 2 2  ⍝ scalar, vector, matrix and 3D array"
   ]
  },
  {
   "cell_type": "markdown",
   "id": "20c9c6ed",
   "metadata": {},
   "source": [
    "# Each nested\n",
    "\n",
    "Applying a function like this, to each of the nested elements of the array but keeping the outer structure, looks like a useful operation. So, we are going to define an operator.\n",
    "\n",
    "The `ND` function that we defined before could easily be modified to be an *each nested* operator that works with any function:"
   ]
  },
  {
   "cell_type": "code",
   "execution_count": 14,
   "id": "cf6ab079",
   "metadata": {},
   "outputs": [],
   "source": [
    "_EN ← {⊂⍉⍤¯1⍉⍺ ⍺⍺⍤1 2⍥(↑[0])⍵}   ⍝ each nested\n",
    " ND ← ⌹_EN\n",
    "_ ← T¨⍬ 2 (2 2) (2 2 2)"
   ]
  },
  {
   "cell_type": "markdown",
   "id": "fbe87453",
   "metadata": {},
   "source": [
    "However, this operator is not very general. It will work when we have matrices as right argument and vectors on the left, but it will not work for arrays of any rank. For example, let's try to use the matrix divide primitive (`⌹`) to perform a least-squares fitting with two vectors:"
   ]
  },
  {
   "cell_type": "code",
   "execution_count": 15,
   "id": "b3ef32f8",
   "metadata": {},
   "outputs": [
    {
     "data": {
      "text/html": [
       "<pre class=\"language-APL\">┌───────────────────┬───────────────────┬───┬──────┐\n",
       "│a                  │b                  │⍴  │⌹     │\n",
       "├───────────────────┼───────────────────┼───┼──────┤\n",
       "│┌─────┬─────┬─────┐│┌─────┬─────┬─────┐│┌─┐│┌────┐│\n",
       "││0.948│0.463│0.518│││0.115│0.414│0.535│││3│││1.23││\n",
       "│└─────┴─────┴─────┘│└─────┴─────┴─────┘│└─┘│└────┘│\n",
       "└───────────────────┴───────────────────┴───┴──────┘\n",
       "</pre>"
      ]
     },
     "execution_count": 15,
     "metadata": {},
     "output_type": "execute_result"
    },
    {
     "data": {
      "text/html": [
       "<pre class=\"language-APL\">┌───────────────────────────────────┬────────────────────────────────────────┬───┬─────────────┐\n",
       "│a                                  │b                                       │⍴  │¨            │\n",
       "├───────────────────────────────────┼────────────────────────────────────────┼───┼─────────────┤\n",
       "│┌───────────┬──────────┬──────────┐│┌───────────┬─────────────┬────────────┐│┌─┐│┌───┬───┬───┐│\n",
       "││0.383 1.31 │4.96 4.03 │2.31  2.76│││1.79 3.42  │0.464   0.976│2.6    1.68 │││3│││4 2│4 2│4 2││\n",
       "││1.95  0.732│3.41 0.746│0.999 1.49│││3.24 0.0359│1.13    0.372│4.71   0.761││└─┘│└───┴───┴───┘│\n",
       "││3.8   1.56 │3.61 4.48 │1.46  1.04│││2.46 3.39  │0.00498 0.731│0.0835 1.74 ││   │             │\n",
       "││3.12  0.151│3.69 1.3  │4.89  4.49│││1.14 0.895 │3.5     1.27 │4.6    3.72 ││   │             │\n",
       "│└───────────┴──────────┴──────────┘│└───────────┴─────────────┴────────────┘│   │             │\n",
       "└───────────────────────────────────┴────────────────────────────────────────┴───┴─────────────┘\n",
       "</pre>"
      ]
     },
     "execution_count": 15,
     "metadata": {},
     "output_type": "execute_result"
    },
    {
     "name": "stderr",
     "output_type": "stream",
     "text": [
      "RANK ERROR\n",
      "_EN[0] _EN←{⊂⍉⍤¯1⍉⍺ ⍺⍺⍤1 2⍥(↑[0])⍵}   ⍝ each nested\n",
      "                       ∧\n"
     ]
    }
   ],
   "source": [
    "a b ← ?3 3⍴¨0                ⍝ random input data\n",
    "'ab⍴⌹' Table a b (⍴a) (a⌹b)  ⍝ flat arrays just work\n",
    "a b ← (⊂4 2)RN¨3 3           ⍝ random nested arrays\n",
    "'ab⍴¨' Table a b (⍴a) (⍴¨a)\n",
    "a ⌹_EN b"
   ]
  },
  {
   "cell_type": "markdown",
   "id": "416852c7",
   "metadata": {},
   "source": [
    "Instead of hardcoding the ranks inside the operator, we can check what is the rank of our nested elements looking at the first element in `⍵`. We will use this rank to transpose subarrays (`⍉⍤(⍴⍴⊃⍵)`). The rank to apply the given function is calculated from the ranks of the left and right arguments (`⊃∘⍴∘⍴¨⍺ ⍵`):"
   ]
  },
  {
   "cell_type": "code",
   "execution_count": 16,
   "id": "b4ab8a19",
   "metadata": {},
   "outputs": [
    {
     "data": {
      "text/html": [
       "<pre class=\"language-APL\">┌───┬───┬────┬─────────┐\n",
       "│⍴a │⍴b │⍴⍴⊃b│⊃∘⍴∘⍴¨a b│\n",
       "├───┼───┼────┼─────────┤\n",
       "│┌─┐│┌─┐│┌─┐ │┌─┬─┐    │\n",
       "││3│││3│││2│ ││1│1│    │\n",
       "│└─┘│└─┘│└─┘ │└─┴─┘    │\n",
       "└───┴───┴────┴─────────┘\n",
       "</pre>"
      ]
     },
     "execution_count": 16,
     "metadata": {},
     "output_type": "execute_result"
    },
    {
     "data": {
      "text/html": [
       "<pre class=\"language-APL\">┌───────────────────────────────────┬────────────────────────────────────────┬─────────────┐\n",
       "│a                                  │b                                       │⌹            │\n",
       "├───────────────────────────────────┼────────────────────────────────────────┼─────────────┤\n",
       "│┌───────────┬──────────┬──────────┐│┌───────────┬─────────────┬────────────┐│┌───────────┐│\n",
       "││0.383 1.31 │4.96 4.03 │2.31  2.76│││1.79 3.42  │0.464   0.976│2.6    1.68 │││0.882 0.845││\n",
       "││1.95  0.732│3.41 0.746│0.999 1.49│││3.24 0.0359│1.13    0.372│4.71   0.761│││0.438 2    ││\n",
       "││3.8   1.56 │3.61 4.48 │1.46  1.04│││2.46 3.39  │0.00498 0.731│0.0835 1.74 │││1.57  0.688││\n",
       "││3.12  0.151│3.69 1.3  │4.89  4.49│││1.14 0.895 │3.5     1.27 │4.6    3.72 │││1.12  1.14 ││\n",
       "│└───────────┴──────────┴──────────┘│└───────────┴─────────────┴────────────┘│└───────────┘│\n",
       "└───────────────────────────────────┴────────────────────────────────────────┴─────────────┘\n",
       "</pre>"
      ]
     },
     "execution_count": 16,
     "metadata": {},
     "output_type": "execute_result"
    }
   ],
   "source": [
    "'⍴a' '⍴b' '⍴⍴⊃b' '⊃∘⍴∘⍴¨a b' Table (⍴a) (⍴b) (⍴⍴⊃b) (⊃∘⍴∘⍴¨a b)\n",
    "_EN ← {⍺←⊢ ⋄ ⊂∘⍉⍤(⍴⍴⊃⍵)∘⍉ ⍺ ⍺⍺⍤(⊃∘⍴∘⍴¨⍺ ⍵)⍥(↑[0]) ⍵}   ⍝ each nested\n",
    " MD ← ⌹_EN\n",
    "_ ← T¨⍬ 2 (2 2) (2 2 2)\n",
    "'ab⌹' Table a b (a ⌹_EN b)"
   ]
  },
  {
   "cell_type": "markdown",
   "id": "c91b372c",
   "metadata": {},
   "source": [
    "The `_EN` operator can now be used either to solve a linear system or perform a least-squares fitting, and it will do the right thing.\n",
    "\n",
    "Of course, `⌹` is not the only function we can use with `_EN`. As a last example, let's take the `LF` function from the [Linear Fitting notebook](https://github.com/Dyalog/dyalog-jupyter-notebooks/blob/master/Linear%20Fitting.ipynb), which performs a linear fitting given a list of two vectors and returns the intercept, the slope and the R-squared value. For convenience, we also define a dyadic linear fitting function:"
   ]
  },
  {
   "cell_type": "code",
   "execution_count": 17,
   "id": "635e416c",
   "metadata": {},
   "outputs": [
    {
     "data": {
      "text/html": [
       "<pre class=\"language-APL\">┌──────────────────────┬──────────────────────┐\n",
       "│x                     │y                     │\n",
       "├──────────────────────┼──────────────────────┤\n",
       "│┌─────┬────┬────┬────┐│┌────┬────┬────┬─────┐│\n",
       "││0.963│4.56│1.03│4.51│││2.51│2.79│2.63│0.762││\n",
       "│└─────┴────┴────┴────┘│└────┴────┴────┴─────┘│\n",
       "└──────────────────────┴──────────────────────┘\n",
       "</pre>"
      ]
     },
     "execution_count": 17,
     "metadata": {},
     "output_type": "execute_result"
    },
    {
     "data": {
      "text/html": [
       "<pre class=\"language-APL\">┌──────┬───────┬───────┐\n",
       "│a     │b      │r      │\n",
       "├──────┼───────┼───────┤\n",
       "│┌────┐│┌─────┐│┌─────┐│\n",
       "││2.78│││¯0.22│││0.224││\n",
       "│└────┘│└─────┘│└─────┘│\n",
       "└──────┴───────┴───────┘\n",
       "</pre>"
      ]
     },
     "execution_count": 17,
     "metadata": {},
     "output_type": "execute_result"
    }
   ],
   "source": [
    "_R2 ← {1-(+/×⍨⍺-⍺⍺⍵)÷+/×⍨(⊢-+/÷≢)⍺}                                            ⍝ R-squared value\n",
    "LF  ← {F←{((a+b∘×)_R2/⍺),⍨a b←⍵} ⋄ 0=⎕NC'⍺': ⍵F⊃⌹∘(1,⍪⍤2⍤⊢)/⍵ ⋄ ⍵F⍺(⌹/⍵-⍺ 0)}  ⍝ linear fitting\n",
    "DLF ← LF⍤,⍥⊂                                                                   ⍝ dyadic linear fitting\n",
    "⍝ eg with non nested values\n",
    "'xy' Table x y←5×?0⍴⍨¨4 4\n",
    "'abr' Table y DLF x"
   ]
  },
  {
   "cell_type": "markdown",
   "id": "d7cfbd68",
   "metadata": {},
   "source": [
    "If we have nested data, we use the `_EN` operator:"
   ]
  },
  {
   "cell_type": "code",
   "execution_count": 18,
   "id": "2cf3e31b",
   "metadata": {},
   "outputs": [
    {
     "data": {
      "text/html": [
       "<pre class=\"language-APL\">┌──────────────────────────────────────────────┬─────────────────────────────────────────────┐\n",
       "│x                                             │y                                            │\n",
       "├──────────────────────────────────────────────┼─────────────────────────────────────────────┤\n",
       "│┌──────────┬──────────┬────────────┬─────────┐│┌──────────┬─────────┬───────────┬──────────┐│\n",
       "││2.53 3.71 │2.19 3.33 │2.92    3.7 │5    2.9 │││4.06  4.31│1.2  4.86│0.0389 4.84│1.77 4.61 ││\n",
       "││4.87 0.715│2.27 4.54 │0.00102 2.32│4.22 0.99│││0.714 3.19│3.07 2   │4.03   3.15│2.81 0.144││\n",
       "││3.38 1.64 │1.91 0.146│1.65    3.26│1.47 3.31│││4.03  4.31│3.46 1.04│4.19   1.19│1.35 4.68 ││\n",
       "│└──────────┴──────────┴────────────┴─────────┘│└──────────┴─────────┴───────────┴──────────┘│\n",
       "└──────────────────────────────────────────────┴─────────────────────────────────────────────┘\n",
       "</pre>"
      ]
     },
     "execution_count": 18,
     "metadata": {},
     "output_type": "execute_result"
    },
    {
     "data": {
      "text/html": [
       "<pre class=\"language-APL\">┌───────────┬────────────────┬─────────────────┐\n",
       "│a          │b               │r                │\n",
       "├───────────┼────────────────┼─────────────────┤\n",
       "│┌────┬────┐│┌───────┬──────┐│┌───────┬───────┐│\n",
       "││2.07│5.02│││¯0.0971│¯0.108│││0.00524│0.025  ││\n",
       "│├────┼────┤│├───────┼──────┤│├───────┼───────┤│\n",
       "││4.21│1.97│││¯0.546 │0.0708│││0.733  │0.00749││\n",
       "│├────┼────┤│├───────┼──────┤│├───────┼───────┤│\n",
       "││1.65│1.84│││0.762  │0.463 │││0.256  │0.127  ││\n",
       "│└────┴────┘│└───────┴──────┘│└───────┴───────┘│\n",
       "└───────────┴────────────────┴─────────────────┘\n",
       "</pre>"
      ]
     },
     "execution_count": 18,
     "metadata": {},
     "output_type": "execute_result"
    }
   ],
   "source": [
    "'xy' Table x y←(⊂3 2)RN¨4 4\n",
    "'abr' Table y DLF _EN x"
   ]
  },
  {
   "cell_type": "markdown",
   "id": "04180fcd",
   "metadata": {},
   "source": [
    "It is also possible to use the `_EN` operator when both arguments do not have the same rank."
   ]
  },
  {
   "cell_type": "code",
   "execution_count": 19,
   "id": "171f4037",
   "metadata": {},
   "outputs": [
    {
     "data": {
      "text/html": [
       "<pre class=\"language-APL\">┌──────────────────────────────────────────────┬────────────────────────┐\n",
       "│x                                             │y                       │\n",
       "├──────────────────────────────────────────────┼────────────────────────┤\n",
       "│┌──────────┬──────────┬────────────┬─────────┐│┌────┬─────┬────┬──────┐│\n",
       "││2.53 3.71 │2.19 3.33 │2.92    3.7 │5    2.9 │││3.44│0.785│4.93│0.0983││\n",
       "││4.87 0.715│2.27 4.54 │0.00102 2.32│4.22 0.99││└────┴─────┴────┴──────┘│\n",
       "││3.38 1.64 │1.91 0.146│1.65    3.26│1.47 3.31││                        │\n",
       "│└──────────┴──────────┴────────────┴─────────┘│                        │\n",
       "└──────────────────────────────────────────────┴────────────────────────┘\n",
       "</pre>"
      ]
     },
     "execution_count": 19,
     "metadata": {},
     "output_type": "execute_result"
    },
    {
     "data": {
      "text/html": [
       "<pre class=\"language-APL\">┌────────────┬───────────────┬──────────────┐\n",
       "│a           │b              │r             │\n",
       "├────────────┼───────────────┼──────────────┤\n",
       "│┌─────┬────┐│┌──────┬──────┐│┌─────┬──────┐│\n",
       "││4.92 │¯16 │││¯0.824│5.37  │││0.211│0.817 ││\n",
       "│├─────┼────┤│├──────┼──────┤│├─────┼──────┤│\n",
       "││3.75 │2.84│││¯0.507│¯0.246│││0.242│0.0362││\n",
       "│├─────┼────┤│├──────┼──────┤│├─────┼──────┤│\n",
       "││0.498│1.45│││0.863 │0.411 │││0.11 │0.0753││\n",
       "│└─────┴────┘│└──────┴──────┘│└─────┴──────┘│\n",
       "└────────────┴───────────────┴──────────────┘\n",
       "</pre>"
      ]
     },
     "execution_count": 19,
     "metadata": {},
     "output_type": "execute_result"
    }
   ],
   "source": [
    "'xy' Table x (y1←5×?4⍴0)\n",
    "'abr' Table y1 DLF _EN x"
   ]
  },
  {
   "cell_type": "markdown",
   "id": "af8a74de",
   "metadata": {},
   "source": [
    "But take into account that `_EN` will deduce the shape of the elements from the first element in the right argument, so you may have to switch the arguments:"
   ]
  },
  {
   "cell_type": "code",
   "execution_count": 20,
   "id": "0fcbb040",
   "metadata": {},
   "outputs": [
    {
     "data": {
      "text/html": [
       "<pre class=\"language-APL\">┌───────────────────┬─────────────────────────────────────────────┐\n",
       "│x                  │y                                            │\n",
       "├───────────────────┼─────────────────────────────────────────────┤\n",
       "│┌────┬─┬────┬─────┐│┌──────────┬─────────┬───────────┬──────────┐│\n",
       "││4.59│4│2.75│0.784│││4.06  4.31│1.2  4.86│0.0389 4.84│1.77 4.61 ││\n",
       "│└────┴─┴────┴─────┘││0.714 3.19│3.07 2   │4.03   3.15│2.81 0.144││\n",
       "│                   ││4.03  4.31│3.46 1.04│4.19   1.19│1.35 4.68 ││\n",
       "│                   │└──────────┴─────────┴───────────┴──────────┘│\n",
       "└───────────────────┴─────────────────────────────────────────────┘\n",
       "</pre>"
      ]
     },
     "execution_count": 20,
     "metadata": {},
     "output_type": "execute_result"
    },
    {
     "data": {
      "text/html": [
       "<pre class=\"language-APL\">┌─────────────┬────────────────┬──────────────┐\n",
       "│a            │b               │r             │\n",
       "├─────────────┼────────────────┼──────────────┤\n",
       "│┌────┬──────┐│┌──────┬───────┐│┌─────┬──────┐│\n",
       "││0.52│4.76  │││0.412 │¯0.0349│││0.168│0.0513││\n",
       "│├────┼──────┤│├──────┼───────┤│├─────┼──────┤│\n",
       "││3.86│0.0888│││¯0.395│0.67   │││0.227│0.624 ││\n",
       "│├────┼──────┤│├──────┼───────┤│├─────┼──────┤│\n",
       "││1.33│3.92  │││0.637 │¯0.367 │││0.671│0.0996││\n",
       "│└────┴──────┘│└──────┴───────┘│└─────┴──────┘│\n",
       "└─────────────┴────────────────┴──────────────┘\n",
       "</pre>"
      ]
     },
     "execution_count": 20,
     "metadata": {},
     "output_type": "execute_result"
    }
   ],
   "source": [
    "'xy' Table (x1←5×?4⍴0) y\n",
    "'abr' Table x1 DLF⍨ _EN y"
   ]
  },
  {
   "cell_type": "markdown",
   "id": "c59a13dd",
   "metadata": {},
   "source": [
    "# Summary\n",
    "\n",
    "The `_EN` operator will apply the given function to each of the nested elements of its arguments, taking as model the first element of the right argument, while keeping the outer structure."
   ]
  },
  {
   "cell_type": "code",
   "execution_count": 21,
   "id": "f9d01d43",
   "metadata": {},
   "outputs": [
    {
     "data": {
      "text/html": [
       "<pre class=\"language-APL\">_EN ← {⍺←⊢ ⋄ ⊂∘⍉⍤(⍴⍴⊃⍵)∘⍉⍺ ⍺⍺⍤(⊃∘⍴∘⍴¨⍺ ⍵)⍥(↑[0])⍵}\n",
       "</pre>"
      ]
     },
     "execution_count": 21,
     "metadata": {},
     "output_type": "execute_result"
    }
   ],
   "source": [
    "]defs _EN"
   ]
  }
 ],
 "metadata": {
  "kernelspec": {
   "display_name": "Dyalog APL",
   "language": "apl",
   "name": "dyalog-kernel"
  },
  "language_info": {
   "file_extension": ".apl",
   "mimetype": "text/apl",
   "name": "APL"
  }
 },
 "nbformat": 4,
 "nbformat_minor": 5
}
